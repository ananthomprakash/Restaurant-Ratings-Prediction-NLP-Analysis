{
 "cells": [
  {
   "cell_type": "code",
   "execution_count": 6,
   "metadata": {},
   "outputs": [],
   "source": [
    "import nltk\n",
    "import numpy as np\n",
    "import random\n",
    "import string\n",
    "import bs4 as bs #beautiful soap is a function to clean\n",
    "import urllib.request\n",
    "import re #regular expression\n",
    "import langdetect"
   ]
  },
  {
   "cell_type": "code",
   "execution_count": 7,
   "metadata": {},
   "outputs": [],
   "source": [
    "import pandas as pd\n",
    "import seaborn as sns\n",
    "from matplotlib import rcParams"
   ]
  },
  {
   "cell_type": "code",
   "execution_count": 8,
   "metadata": {},
   "outputs": [],
   "source": [
    "import string\n",
    "import matplotlib.pyplot as plt\n",
    "import seaborn as sns\n",
    "from sklearn.feature_extraction.text import TfidfTransformer\n",
    "from sklearn.feature_extraction.text import TfidfVectorizer\n",
    "\n",
    "from sklearn.feature_extraction.text import CountVectorizer\n",
    "from sklearn.metrics import confusion_matrix\n",
    "from sklearn import metrics\n",
    "from sklearn.metrics import roc_curve, auc\n",
    "from nltk.stem.porter import PorterStemmer\n",
    "\n",
    "import re\n",
    "# Tutorial about Python regular expressions: https://pymotw.com/2/re/\n",
    "import string\n",
    "from nltk.corpus import stopwords\n",
    "from nltk.stem import PorterStemmer\n",
    "from nltk.stem.wordnet import WordNetLemmatizer\n",
    "\n",
    "#from gensim.models import Word2Vec\n",
    "#from gensim.models import KeyedVectors\n",
    "import pickle\n",
    "\n",
    "from tqdm import tqdm\n",
    "import os"
   ]
  },
  {
   "cell_type": "code",
   "execution_count": 9,
   "metadata": {},
   "outputs": [],
   "source": [
    "ratings=pd.read_csv(r\"C:\\Users\\anant\\Documents\\MLDataSets\\RestaurantRatings\\restaurantrawdata.csv\")"
   ]
  },
  {
   "cell_type": "code",
   "execution_count": 10,
   "metadata": {},
   "outputs": [
    {
     "data": {
      "text/html": [
       "<div>\n",
       "<style scoped>\n",
       "    .dataframe tbody tr th:only-of-type {\n",
       "        vertical-align: middle;\n",
       "    }\n",
       "\n",
       "    .dataframe tbody tr th {\n",
       "        vertical-align: top;\n",
       "    }\n",
       "\n",
       "    .dataframe thead th {\n",
       "        text-align: right;\n",
       "    }\n",
       "</style>\n",
       "<table border=\"1\" class=\"dataframe\">\n",
       "  <thead>\n",
       "    <tr style=\"text-align: right;\">\n",
       "      <th></th>\n",
       "      <th>Unnamed: 0</th>\n",
       "      <th>Name</th>\n",
       "      <th>City</th>\n",
       "      <th>Cuisine Style</th>\n",
       "      <th>Ranking</th>\n",
       "      <th>Rating</th>\n",
       "      <th>Price Range</th>\n",
       "      <th>Number of Reviews</th>\n",
       "      <th>Reviews</th>\n",
       "      <th>URL_TA</th>\n",
       "      <th>ID_TA</th>\n",
       "    </tr>\n",
       "  </thead>\n",
       "  <tbody>\n",
       "    <tr>\n",
       "      <td>0</td>\n",
       "      <td>0</td>\n",
       "      <td>Martine of Martine's Table</td>\n",
       "      <td>Amsterdam</td>\n",
       "      <td>['French', 'Dutch', 'European']</td>\n",
       "      <td>1.0</td>\n",
       "      <td>5.0</td>\n",
       "      <td>$$ - $$$</td>\n",
       "      <td>136.0</td>\n",
       "      <td>[['Just like home', 'A Warm Welcome to Wintry ...</td>\n",
       "      <td>/Restaurant_Review-g188590-d11752080-Reviews-M...</td>\n",
       "      <td>d11752080</td>\n",
       "    </tr>\n",
       "    <tr>\n",
       "      <td>1</td>\n",
       "      <td>1</td>\n",
       "      <td>De Silveren Spiegel</td>\n",
       "      <td>Amsterdam</td>\n",
       "      <td>['Dutch', 'European', 'Vegetarian Friendly', '...</td>\n",
       "      <td>2.0</td>\n",
       "      <td>4.5</td>\n",
       "      <td>$$$$</td>\n",
       "      <td>812.0</td>\n",
       "      <td>[['Great food and staff', 'just perfect'], ['0...</td>\n",
       "      <td>/Restaurant_Review-g188590-d693419-Reviews-De_...</td>\n",
       "      <td>d693419</td>\n",
       "    </tr>\n",
       "    <tr>\n",
       "      <td>2</td>\n",
       "      <td>2</td>\n",
       "      <td>La Rive</td>\n",
       "      <td>Amsterdam</td>\n",
       "      <td>['Mediterranean', 'French', 'International', '...</td>\n",
       "      <td>3.0</td>\n",
       "      <td>4.5</td>\n",
       "      <td>$$$$</td>\n",
       "      <td>567.0</td>\n",
       "      <td>[['Satisfaction', 'Delicious old school restau...</td>\n",
       "      <td>/Restaurant_Review-g188590-d696959-Reviews-La_...</td>\n",
       "      <td>d696959</td>\n",
       "    </tr>\n",
       "    <tr>\n",
       "      <td>3</td>\n",
       "      <td>3</td>\n",
       "      <td>Vinkeles</td>\n",
       "      <td>Amsterdam</td>\n",
       "      <td>['French', 'European', 'International', 'Conte...</td>\n",
       "      <td>4.0</td>\n",
       "      <td>5.0</td>\n",
       "      <td>$$$$</td>\n",
       "      <td>564.0</td>\n",
       "      <td>[['True five star dinner', 'A superb evening o...</td>\n",
       "      <td>/Restaurant_Review-g188590-d1239229-Reviews-Vi...</td>\n",
       "      <td>d1239229</td>\n",
       "    </tr>\n",
       "    <tr>\n",
       "      <td>4</td>\n",
       "      <td>4</td>\n",
       "      <td>Librije's Zusje Amsterdam</td>\n",
       "      <td>Amsterdam</td>\n",
       "      <td>['Dutch', 'European', 'International', 'Vegeta...</td>\n",
       "      <td>5.0</td>\n",
       "      <td>4.5</td>\n",
       "      <td>$$$$</td>\n",
       "      <td>316.0</td>\n",
       "      <td>[['Best meal.... EVER', 'super food experience...</td>\n",
       "      <td>/Restaurant_Review-g188590-d6864170-Reviews-Li...</td>\n",
       "      <td>d6864170</td>\n",
       "    </tr>\n",
       "  </tbody>\n",
       "</table>\n",
       "</div>"
      ],
      "text/plain": [
       "   Unnamed: 0                        Name       City  \\\n",
       "0           0  Martine of Martine's Table  Amsterdam   \n",
       "1           1         De Silveren Spiegel  Amsterdam   \n",
       "2           2                     La Rive  Amsterdam   \n",
       "3           3                    Vinkeles  Amsterdam   \n",
       "4           4   Librije's Zusje Amsterdam  Amsterdam   \n",
       "\n",
       "                                       Cuisine Style  Ranking  Rating  \\\n",
       "0                    ['French', 'Dutch', 'European']      1.0     5.0   \n",
       "1  ['Dutch', 'European', 'Vegetarian Friendly', '...      2.0     4.5   \n",
       "2  ['Mediterranean', 'French', 'International', '...      3.0     4.5   \n",
       "3  ['French', 'European', 'International', 'Conte...      4.0     5.0   \n",
       "4  ['Dutch', 'European', 'International', 'Vegeta...      5.0     4.5   \n",
       "\n",
       "  Price Range  Number of Reviews  \\\n",
       "0    $$ - $$$              136.0   \n",
       "1        $$$$              812.0   \n",
       "2        $$$$              567.0   \n",
       "3        $$$$              564.0   \n",
       "4        $$$$              316.0   \n",
       "\n",
       "                                             Reviews  \\\n",
       "0  [['Just like home', 'A Warm Welcome to Wintry ...   \n",
       "1  [['Great food and staff', 'just perfect'], ['0...   \n",
       "2  [['Satisfaction', 'Delicious old school restau...   \n",
       "3  [['True five star dinner', 'A superb evening o...   \n",
       "4  [['Best meal.... EVER', 'super food experience...   \n",
       "\n",
       "                                              URL_TA      ID_TA  \n",
       "0  /Restaurant_Review-g188590-d11752080-Reviews-M...  d11752080  \n",
       "1  /Restaurant_Review-g188590-d693419-Reviews-De_...    d693419  \n",
       "2  /Restaurant_Review-g188590-d696959-Reviews-La_...    d696959  \n",
       "3  /Restaurant_Review-g188590-d1239229-Reviews-Vi...   d1239229  \n",
       "4  /Restaurant_Review-g188590-d6864170-Reviews-Li...   d6864170  "
      ]
     },
     "execution_count": 10,
     "metadata": {},
     "output_type": "execute_result"
    }
   ],
   "source": [
    "ratings.head()"
   ]
  },
  {
   "cell_type": "code",
   "execution_count": 11,
   "metadata": {},
   "outputs": [
    {
     "data": {
      "text/plain": [
       "Unnamed: 0               0\n",
       "Name                     0\n",
       "City                     0\n",
       "Cuisine Style        31351\n",
       "Ranking               9651\n",
       "Rating                9630\n",
       "Price Range          47855\n",
       "Number of Reviews    17344\n",
       "Reviews               9616\n",
       "URL_TA                   0\n",
       "ID_TA                    0\n",
       "dtype: int64"
      ]
     },
     "execution_count": 11,
     "metadata": {},
     "output_type": "execute_result"
    }
   ],
   "source": [
    "ratings.isnull().sum()"
   ]
  },
  {
   "cell_type": "code",
   "execution_count": null,
   "metadata": {},
   "outputs": [],
   "source": [
    "sns.violinplot"
   ]
  },
  {
   "cell_type": "code",
   "execution_count": 9,
   "metadata": {},
   "outputs": [],
   "source": [
    "ratings1=ratings.drop([\"Unnamed: 0\",\"City\",\"URL_TA\",\"ID_TA\",\"Cuisine Style\",\"Price Range\",\"Number of Reviews\"],axis=1)"
   ]
  },
  {
   "cell_type": "code",
   "execution_count": 10,
   "metadata": {},
   "outputs": [
    {
     "data": {
      "text/html": [
       "<div>\n",
       "<style scoped>\n",
       "    .dataframe tbody tr th:only-of-type {\n",
       "        vertical-align: middle;\n",
       "    }\n",
       "\n",
       "    .dataframe tbody tr th {\n",
       "        vertical-align: top;\n",
       "    }\n",
       "\n",
       "    .dataframe thead th {\n",
       "        text-align: right;\n",
       "    }\n",
       "</style>\n",
       "<table border=\"1\" class=\"dataframe\">\n",
       "  <thead>\n",
       "    <tr style=\"text-align: right;\">\n",
       "      <th></th>\n",
       "      <th>Name</th>\n",
       "      <th>Ranking</th>\n",
       "      <th>Rating</th>\n",
       "      <th>Reviews</th>\n",
       "    </tr>\n",
       "  </thead>\n",
       "  <tbody>\n",
       "    <tr>\n",
       "      <td>0</td>\n",
       "      <td>Martine of Martine's Table</td>\n",
       "      <td>1.0</td>\n",
       "      <td>5.0</td>\n",
       "      <td>[['Just like home', 'A Warm Welcome to Wintry ...</td>\n",
       "    </tr>\n",
       "    <tr>\n",
       "      <td>1</td>\n",
       "      <td>De Silveren Spiegel</td>\n",
       "      <td>2.0</td>\n",
       "      <td>4.5</td>\n",
       "      <td>[['Great food and staff', 'just perfect'], ['0...</td>\n",
       "    </tr>\n",
       "    <tr>\n",
       "      <td>2</td>\n",
       "      <td>La Rive</td>\n",
       "      <td>3.0</td>\n",
       "      <td>4.5</td>\n",
       "      <td>[['Satisfaction', 'Delicious old school restau...</td>\n",
       "    </tr>\n",
       "    <tr>\n",
       "      <td>3</td>\n",
       "      <td>Vinkeles</td>\n",
       "      <td>4.0</td>\n",
       "      <td>5.0</td>\n",
       "      <td>[['True five star dinner', 'A superb evening o...</td>\n",
       "    </tr>\n",
       "    <tr>\n",
       "      <td>4</td>\n",
       "      <td>Librije's Zusje Amsterdam</td>\n",
       "      <td>5.0</td>\n",
       "      <td>4.5</td>\n",
       "      <td>[['Best meal.... EVER', 'super food experience...</td>\n",
       "    </tr>\n",
       "  </tbody>\n",
       "</table>\n",
       "</div>"
      ],
      "text/plain": [
       "                         Name  Ranking  Rating  \\\n",
       "0  Martine of Martine's Table      1.0     5.0   \n",
       "1         De Silveren Spiegel      2.0     4.5   \n",
       "2                     La Rive      3.0     4.5   \n",
       "3                    Vinkeles      4.0     5.0   \n",
       "4   Librije's Zusje Amsterdam      5.0     4.5   \n",
       "\n",
       "                                             Reviews  \n",
       "0  [['Just like home', 'A Warm Welcome to Wintry ...  \n",
       "1  [['Great food and staff', 'just perfect'], ['0...  \n",
       "2  [['Satisfaction', 'Delicious old school restau...  \n",
       "3  [['True five star dinner', 'A superb evening o...  \n",
       "4  [['Best meal.... EVER', 'super food experience...  "
      ]
     },
     "execution_count": 10,
     "metadata": {},
     "output_type": "execute_result"
    }
   ],
   "source": [
    "ratings1.head()"
   ]
  },
  {
   "cell_type": "code",
   "execution_count": 11,
   "metadata": {},
   "outputs": [
    {
     "data": {
      "text/plain": [
       "Name          0\n",
       "Ranking    9651\n",
       "Rating     9630\n",
       "Reviews    9616\n",
       "dtype: int64"
      ]
     },
     "execution_count": 11,
     "metadata": {},
     "output_type": "execute_result"
    }
   ],
   "source": [
    "ratings1.isnull().sum()"
   ]
  },
  {
   "cell_type": "code",
   "execution_count": 12,
   "metadata": {},
   "outputs": [],
   "source": [
    "ratings1.drop([\"Ranking\"],axis=1,inplace=True)"
   ]
  },
  {
   "cell_type": "code",
   "execution_count": 13,
   "metadata": {},
   "outputs": [],
   "source": [
    "ratings1.Rating= ratings1.Rating.replace(\"NEW\", np.nan)\n",
    "ratings1.dropna(how ='any', inplace = True)"
   ]
  },
  {
   "cell_type": "code",
   "execution_count": 14,
   "metadata": {},
   "outputs": [
    {
     "data": {
      "text/plain": [
       "Name       0\n",
       "Rating     0\n",
       "Reviews    0\n",
       "dtype: int64"
      ]
     },
     "execution_count": 14,
     "metadata": {},
     "output_type": "execute_result"
    }
   ],
   "source": [
    "ratings1.isnull().sum()"
   ]
  },
  {
   "cell_type": "code",
   "execution_count": 15,
   "metadata": {},
   "outputs": [
    {
     "data": {
      "text/html": [
       "<div>\n",
       "<style scoped>\n",
       "    .dataframe tbody tr th:only-of-type {\n",
       "        vertical-align: middle;\n",
       "    }\n",
       "\n",
       "    .dataframe tbody tr th {\n",
       "        vertical-align: top;\n",
       "    }\n",
       "\n",
       "    .dataframe thead th {\n",
       "        text-align: right;\n",
       "    }\n",
       "</style>\n",
       "<table border=\"1\" class=\"dataframe\">\n",
       "  <thead>\n",
       "    <tr style=\"text-align: right;\">\n",
       "      <th></th>\n",
       "      <th>Name</th>\n",
       "      <th>Rating</th>\n",
       "      <th>Reviews</th>\n",
       "    </tr>\n",
       "  </thead>\n",
       "  <tbody>\n",
       "    <tr>\n",
       "      <td>0</td>\n",
       "      <td>Martine of Martine's Table</td>\n",
       "      <td>5.0</td>\n",
       "      <td>[['Just like home', 'A Warm Welcome to Wintry ...</td>\n",
       "    </tr>\n",
       "    <tr>\n",
       "      <td>1</td>\n",
       "      <td>De Silveren Spiegel</td>\n",
       "      <td>4.5</td>\n",
       "      <td>[['Great food and staff', 'just perfect'], ['0...</td>\n",
       "    </tr>\n",
       "    <tr>\n",
       "      <td>2</td>\n",
       "      <td>La Rive</td>\n",
       "      <td>4.5</td>\n",
       "      <td>[['Satisfaction', 'Delicious old school restau...</td>\n",
       "    </tr>\n",
       "    <tr>\n",
       "      <td>3</td>\n",
       "      <td>Vinkeles</td>\n",
       "      <td>5.0</td>\n",
       "      <td>[['True five star dinner', 'A superb evening o...</td>\n",
       "    </tr>\n",
       "    <tr>\n",
       "      <td>4</td>\n",
       "      <td>Librije's Zusje Amsterdam</td>\n",
       "      <td>4.5</td>\n",
       "      <td>[['Best meal.... EVER', 'super food experience...</td>\n",
       "    </tr>\n",
       "  </tbody>\n",
       "</table>\n",
       "</div>"
      ],
      "text/plain": [
       "                         Name  Rating  \\\n",
       "0  Martine of Martine's Table     5.0   \n",
       "1         De Silveren Spiegel     4.5   \n",
       "2                     La Rive     4.5   \n",
       "3                    Vinkeles     5.0   \n",
       "4   Librije's Zusje Amsterdam     4.5   \n",
       "\n",
       "                                             Reviews  \n",
       "0  [['Just like home', 'A Warm Welcome to Wintry ...  \n",
       "1  [['Great food and staff', 'just perfect'], ['0...  \n",
       "2  [['Satisfaction', 'Delicious old school restau...  \n",
       "3  [['True five star dinner', 'A superb evening o...  \n",
       "4  [['Best meal.... EVER', 'super food experience...  "
      ]
     },
     "execution_count": 15,
     "metadata": {},
     "output_type": "execute_result"
    }
   ],
   "source": [
    "ratings1.head()"
   ]
  },
  {
   "cell_type": "markdown",
   "metadata": {},
   "source": [
    "#Language Detect"
   ]
  },
  {
   "cell_type": "code",
   "execution_count": 35,
   "metadata": {},
   "outputs": [
    {
     "name": "stdout",
     "output_type": "stream",
     "text": [
      "Ik ben een indiaan  -->  nl\n"
     ]
    }
   ],
   "source": [
    "txt = \"Ik ben een indiaan\"\n",
    "print(txt, \" --> \", langdetect.detect(txt))\n"
   ]
  },
  {
   "cell_type": "code",
   "execution_count": 39,
   "metadata": {},
   "outputs": [],
   "source": [
    "langdetect.detect.__doc__"
   ]
  },
  {
   "cell_type": "code",
   "execution_count": 14,
   "metadata": {},
   "outputs": [
    {
     "data": {
      "text/plain": [
       "Text(0.5, 1.0, 'Rating')"
      ]
     },
     "execution_count": 14,
     "metadata": {},
     "output_type": "execute_result"
    },
    {
     "data": {
      "image/png": "[encoded data removed]",
      "text/plain": [
       "<Figure size 1080x504 with 1 Axes>"
      ]
     },
     "metadata": {
      "needs_background": "light"
     },
     "output_type": "display_data"
    }
   ],
   "source": [
    "rcParams['figure.figsize'] = 15,7\n",
    "g = sns.countplot(x=\"Rating\",data=ratings1, palette = \"Set1\")\n",
    "g.set_xticklabels(g.get_xticklabels(), rotation=90, ha=\"right\")\n",
    "g \n",
    "plt.title('Rating',size = 20)"
   ]
  },
  {
   "cell_type": "code",
   "execution_count": 15,
   "metadata": {},
   "outputs": [],
   "source": [
    "ratings1.drop([\"Name\"],axis=1,inplace=True)"
   ]
  },
  {
   "cell_type": "code",
   "execution_count": 16,
   "metadata": {},
   "outputs": [
    {
     "data": {
      "text/html": [
       "<div>\n",
       "<style scoped>\n",
       "    .dataframe tbody tr th:only-of-type {\n",
       "        vertical-align: middle;\n",
       "    }\n",
       "\n",
       "    .dataframe tbody tr th {\n",
       "        vertical-align: top;\n",
       "    }\n",
       "\n",
       "    .dataframe thead th {\n",
       "        text-align: right;\n",
       "    }\n",
       "</style>\n",
       "<table border=\"1\" class=\"dataframe\">\n",
       "  <thead>\n",
       "    <tr style=\"text-align: right;\">\n",
       "      <th></th>\n",
       "      <th>Rating</th>\n",
       "      <th>Reviews</th>\n",
       "    </tr>\n",
       "  </thead>\n",
       "  <tbody>\n",
       "    <tr>\n",
       "      <td>0</td>\n",
       "      <td>5.0</td>\n",
       "      <td>[['Just like home', 'A Warm Welcome to Wintry ...</td>\n",
       "    </tr>\n",
       "    <tr>\n",
       "      <td>1</td>\n",
       "      <td>4.5</td>\n",
       "      <td>[['Great food and staff', 'just perfect'], ['0...</td>\n",
       "    </tr>\n",
       "    <tr>\n",
       "      <td>2</td>\n",
       "      <td>4.5</td>\n",
       "      <td>[['Satisfaction', 'Delicious old school restau...</td>\n",
       "    </tr>\n",
       "    <tr>\n",
       "      <td>3</td>\n",
       "      <td>5.0</td>\n",
       "      <td>[['True five star dinner', 'A superb evening o...</td>\n",
       "    </tr>\n",
       "    <tr>\n",
       "      <td>4</td>\n",
       "      <td>4.5</td>\n",
       "      <td>[['Best meal.... EVER', 'super food experience...</td>\n",
       "    </tr>\n",
       "  </tbody>\n",
       "</table>\n",
       "</div>"
      ],
      "text/plain": [
       "   Rating                                            Reviews\n",
       "0     5.0  [['Just like home', 'A Warm Welcome to Wintry ...\n",
       "1     4.5  [['Great food and staff', 'just perfect'], ['0...\n",
       "2     4.5  [['Satisfaction', 'Delicious old school restau...\n",
       "3     5.0  [['True five star dinner', 'A superb evening o...\n",
       "4     4.5  [['Best meal.... EVER', 'super food experience..."
      ]
     },
     "execution_count": 16,
     "metadata": {},
     "output_type": "execute_result"
    }
   ],
   "source": [
    "ratings1.head()"
   ]
  },
  {
   "cell_type": "code",
   "execution_count": 17,
   "metadata": {},
   "outputs": [],
   "source": [
    "ratings1[\"newrating\"]=np.where(ratings1[\"Rating\"]<3,0,1)"
   ]
  },
  {
   "cell_type": "code",
   "execution_count": 18,
   "metadata": {},
   "outputs": [],
   "source": [
    "ratings1.drop([\"Rating\"],axis=1,inplace=True)"
   ]
  },
  {
   "cell_type": "code",
   "execution_count": 19,
   "metadata": {},
   "outputs": [
    {
     "data": {
      "text/html": [
       "<div>\n",
       "<style scoped>\n",
       "    .dataframe tbody tr th:only-of-type {\n",
       "        vertical-align: middle;\n",
       "    }\n",
       "\n",
       "    .dataframe tbody tr th {\n",
       "        vertical-align: top;\n",
       "    }\n",
       "\n",
       "    .dataframe thead th {\n",
       "        text-align: right;\n",
       "    }\n",
       "</style>\n",
       "<table border=\"1\" class=\"dataframe\">\n",
       "  <thead>\n",
       "    <tr style=\"text-align: right;\">\n",
       "      <th></th>\n",
       "      <th>Reviews</th>\n",
       "      <th>newrating</th>\n",
       "    </tr>\n",
       "  </thead>\n",
       "  <tbody>\n",
       "    <tr>\n",
       "      <td>0</td>\n",
       "      <td>[['Just like home', 'A Warm Welcome to Wintry ...</td>\n",
       "      <td>1</td>\n",
       "    </tr>\n",
       "    <tr>\n",
       "      <td>1</td>\n",
       "      <td>[['Great food and staff', 'just perfect'], ['0...</td>\n",
       "      <td>1</td>\n",
       "    </tr>\n",
       "    <tr>\n",
       "      <td>2</td>\n",
       "      <td>[['Satisfaction', 'Delicious old school restau...</td>\n",
       "      <td>1</td>\n",
       "    </tr>\n",
       "    <tr>\n",
       "      <td>3</td>\n",
       "      <td>[['True five star dinner', 'A superb evening o...</td>\n",
       "      <td>1</td>\n",
       "    </tr>\n",
       "    <tr>\n",
       "      <td>4</td>\n",
       "      <td>[['Best meal.... EVER', 'super food experience...</td>\n",
       "      <td>1</td>\n",
       "    </tr>\n",
       "  </tbody>\n",
       "</table>\n",
       "</div>"
      ],
      "text/plain": [
       "                                             Reviews  newrating\n",
       "0  [['Just like home', 'A Warm Welcome to Wintry ...          1\n",
       "1  [['Great food and staff', 'just perfect'], ['0...          1\n",
       "2  [['Satisfaction', 'Delicious old school restau...          1\n",
       "3  [['True five star dinner', 'A superb evening o...          1\n",
       "4  [['Best meal.... EVER', 'super food experience...          1"
      ]
     },
     "execution_count": 19,
     "metadata": {},
     "output_type": "execute_result"
    }
   ],
   "source": [
    "ratings1.head()"
   ]
  },
  {
   "cell_type": "code",
   "execution_count": 20,
   "metadata": {},
   "outputs": [
    {
     "data": {
      "text/plain": [
       "1    110691\n",
       "0      5201\n",
       "Name: newrating, dtype: int64"
      ]
     },
     "execution_count": 20,
     "metadata": {},
     "output_type": "execute_result"
    }
   ],
   "source": [
    "ratings1[\"newrating\"].value_counts()"
   ]
  },
  {
   "cell_type": "markdown",
   "metadata": {},
   "source": [
    "<b>#Text Preprocessing</b>"
   ]
  },
  {
   "cell_type": "code",
   "execution_count": 21,
   "metadata": {},
   "outputs": [],
   "source": [
    "import re\n",
    "from bs4 import BeautifulSoup\n",
    "\n",
    "\n",
    "def decontracted(phrase):\n",
    "    # specific\n",
    "    phrase = re.sub(r\"won't\", \"will not\", phrase)\n",
    "    phrase = re.sub(r\"can\\'t\", \"can not\", phrase)\n",
    "\n",
    "    # general\n",
    "    phrase = re.sub(r\"n\\'t\", \" not\", phrase)\n",
    "    phrase = re.sub(r\"\\'re\", \" are\", phrase)\n",
    "    phrase = re.sub(r\"\\'s\", \" is\", phrase)\n",
    "    phrase = re.sub(r\"\\'d\", \" would\", phrase)\n",
    "    phrase = re.sub(r\"\\'ll\", \" will\", phrase)\n",
    "    phrase = re.sub(r\"\\'t\", \" not\", phrase)\n",
    "    phrase = re.sub(r\"\\'ve\", \" have\", phrase)\n",
    "    phrase = re.sub(r\"\\'m\", \" am\", phrase)\n",
    "    return phrase"
   ]
  },
  {
   "cell_type": "code",
   "execution_count": 22,
   "metadata": {},
   "outputs": [],
   "source": [
    "stopwords= set(['br', 'the', 'i', 'me', 'my', 'myself', 'we', 'our', 'ours', 'ourselves', 'you', \"you're\", \"you've\",\\\n",
    "            \"you'll\", \"you'd\", 'your', 'yours', 'yourself', 'yourselves', 'he', 'him', 'his', 'himself', \\\n",
    "            'she', \"she's\", 'her', 'hers', 'herself', 'it', \"it's\", 'its', 'itself', 'they', 'them', 'their',\\\n",
    "            'theirs', 'themselves', 'what', 'which', 'who', 'whom', 'this', 'that', \"that'll\", 'these', 'those', \\\n",
    "            'am', 'is', 'are', 'was', 'were', 'be', 'been', 'being', 'have', 'has', 'had', 'having', 'do', 'does', \\\n",
    "            'did', 'doing', 'a', 'an', 'the', 'and', 'but', 'if', 'or', 'because', 'as', 'until', 'while', 'of', \\\n",
    "            'at', 'by', 'for', 'with', 'about', 'against', 'between', 'into', 'through', 'during', 'before', 'after',\\\n",
    "            'above', 'below', 'to', 'from', 'up', 'down', 'in', 'out', 'on', 'off', 'over', 'under', 'again', 'further',\\\n",
    "            'then', 'once', 'here', 'there', 'when', 'where', 'why', 'how', 'all', 'any', 'both', 'each', 'few', 'more',\\\n",
    "            'most', 'other', 'some', 'such', 'only', 'own', 'same', 'so', 'than', 'too', 'very', \\\n",
    "            's', 't', 'can', 'will', 'just', 'don', \"don't\", 'should', \"should've\", 'now', 'd', 'll', 'm', 'o', 're', \\\n",
    "            've', 'y', 'ain', 'aren', \"aren't\", 'couldn', \"couldn't\", 'didn', \"didn't\", 'doesn', \"doesn't\", 'hadn',\\\n",
    "            \"hadn't\", 'hasn', \"hasn't\", 'haven', \"haven't\", 'isn', \"isn't\", 'ma', 'mightn', \"mightn't\", 'mustn',\\\n",
    "            \"mustn't\", 'needn', \"needn't\", 'shan', \"shan't\", 'shouldn', \"shouldn't\", 'wasn', \"wasn't\", 'weren', \"weren't\", \\\n",
    "            'won', \"won't\", 'wouldn', \"wouldn't\"])"
   ]
  },
  {
   "cell_type": "code",
   "execution_count": 23,
   "metadata": {},
   "outputs": [
    {
     "name": "stderr",
     "output_type": "stream",
     "text": [
      "100%|████████████████████████████████████████████████████████████████████████| 115892/115892 [01:03<00:00, 1824.32it/s]\n"
     ]
    }
   ],
   "source": [
    "from tqdm import tqdm\n",
    "preprocessed_reviews = []\n",
    "# tqdm is for printing the status bar\n",
    "for sentance in tqdm(ratings1['Reviews'].values):\n",
    "    sentance = re.sub(r\"http\\S+\", \"\", sentance)\n",
    "    sentance = BeautifulSoup(sentance, 'lxml').get_text()\n",
    "    sentance = decontracted(sentance)\n",
    "    sentance = re.sub(\"\\S*\\d\\S*\", \"\", sentance).strip()\n",
    "    sentance = re.sub('[^A-Za-z]+', ' ', sentance)\n",
    "    # https://gist.github.com/sebleier/554280\n",
    "    sentance = ' '.join(e.lower() for e in sentance.split() if e.lower() not in stopwords)\n",
    "    preprocessed_reviews.append(sentance.strip())"
   ]
  },
  {
   "cell_type": "code",
   "execution_count": 24,
   "metadata": {},
   "outputs": [
    {
     "data": {
      "text/plain": [
       "'early morning saviour five times'"
      ]
     },
     "execution_count": 24,
     "metadata": {},
     "output_type": "execute_result"
    }
   ],
   "source": [
    "preprocessed_reviews[2000]"
   ]
  },
  {
   "cell_type": "markdown",
   "metadata": {},
   "source": [
    "<b><h1>BAG OF WORDS</h1></b>"
   ]
  },
  {
   "cell_type": "code",
   "execution_count": 25,
   "metadata": {},
   "outputs": [
    {
     "name": "stdout",
     "output_type": "stream",
     "text": [
      "some feature names  ['aa', 'aaaaaa', 'aaaaaaaaamazing', 'aaaaamazing', 'aaaamazing', 'aaaargh', 'aalto', 'aamiainen', 'aanrader', 'aardige']\n",
      "==================================================\n",
      "the type of count vectorizer  <class 'scipy.sparse.csr.csr_matrix'>\n",
      "the shape of out text BOW vectorizer  (115892, 23585)\n",
      "the number of unique words  23585\n"
     ]
    }
   ],
   "source": [
    "#BoW\n",
    "count_vect = CountVectorizer() #in scikit-learn\n",
    "count_vect.fit(preprocessed_reviews)\n",
    "print(\"some feature names \", count_vect.get_feature_names()[:10])\n",
    "print('='*50)\n",
    "\n",
    "final_counts = count_vect.transform(preprocessed_reviews)\n",
    "print(\"the type of count vectorizer \",type(final_counts))\n",
    "print(\"the shape of out text BOW vectorizer \",final_counts.get_shape())\n",
    "print(\"the number of unique words \", final_counts.get_shape()[1])"
   ]
  },
  {
   "cell_type": "code",
   "execution_count": 26,
   "metadata": {},
   "outputs": [
    {
     "data": {
      "text/plain": [
       "<115892x23585 sparse matrix of type '<class 'numpy.int64'>'\n",
       "\twith 524392 stored elements in Compressed Sparse Row format>"
      ]
     },
     "execution_count": 26,
     "metadata": {},
     "output_type": "execute_result"
    }
   ],
   "source": [
    "final_counts"
   ]
  },
  {
   "cell_type": "markdown",
   "metadata": {},
   "source": [
    "<b><h1>Bi-Grams and n-Grams.</h1></b>"
   ]
  },
  {
   "cell_type": "code",
   "execution_count": 27,
   "metadata": {
    "scrolled": true
   },
   "outputs": [
    {
     "name": "stdout",
     "output_type": "stream",
     "text": [
      "the type of count vectorizer  <class 'scipy.sparse.csr.csr_matrix'>\n",
      "the shape of out text BOW vectorizer  (115892, 7831)\n",
      "the number of unique words including both unigrams and bigrams  7831\n"
     ]
    }
   ],
   "source": [
    "#bi-gram, tri-gram and n-gram\n",
    "\n",
    "#removing stop words like \"not\" should be avoided before building n-grams\n",
    "# count_vect = CountVectorizer(ngram_range=(1,2))\n",
    "# please do read the CountVectorizer documentation http://scikit-learn.org/stable/modules/generated/sklearn.feature_extraction.text.CountVectorizer.html\n",
    "# you can choose these numebrs min_df=10, max_features=5000, of your choice\n",
    "count_vect = CountVectorizer(ngram_range=(1,2), min_df=10)\n",
    "final_bigram_counts = count_vect.fit_transform(preprocessed_reviews)\n",
    "print(\"the type of count vectorizer \",type(final_bigram_counts))\n",
    "print(\"the shape of out text BOW vectorizer \",final_bigram_counts.get_shape())\n",
    "print(\"the number of unique words including both unigrams and bigrams \", final_bigram_counts.get_shape()[1])"
   ]
  },
  {
   "cell_type": "markdown",
   "metadata": {},
   "source": [
    "<b><h1>TF-IDF</h1></b>"
   ]
  },
  {
   "cell_type": "code",
   "execution_count": 28,
   "metadata": {},
   "outputs": [
    {
     "name": "stdout",
     "output_type": "stream",
     "text": [
      "some sample features(unique words in the corpus) ['able', 'absolute', 'absolute gem', 'absolute must', 'absolutely', 'absolutely amazing', 'absolutely delicious', 'absolutely disgusting', 'absolutely fabulous', 'absolutely fantastic']\n",
      "==================================================\n",
      "the type of count vectorizer  <class 'scipy.sparse.csr.csr_matrix'>\n",
      "the shape of out text TFIDF vectorizer  (115892, 7831)\n",
      "the number of unique words including both unigrams and bigrams  7831\n"
     ]
    }
   ],
   "source": [
    "tf_idf_vect = TfidfVectorizer(ngram_range=(1,2), min_df=10)\n",
    "tf_idf_vect.fit(preprocessed_reviews)\n",
    "print(\"some sample features(unique words in the corpus)\",tf_idf_vect.get_feature_names()[0:10])\n",
    "print('='*50)\n",
    "\n",
    "final_tf_idf = tf_idf_vect.fit_transform(preprocessed_reviews)\n",
    "print(\"the type of count vectorizer \",type(final_tf_idf))\n",
    "print(\"the shape of out text TFIDF vectorizer \",final_tf_idf.get_shape())\n",
    "print(\"the number of unique words including both unigrams and bigrams \", final_tf_idf.get_shape()[1])"
   ]
  },
  {
   "cell_type": "code",
   "execution_count": 29,
   "metadata": {},
   "outputs": [
    {
     "name": "stdout",
     "output_type": "stream",
     "text": [
      "  (0, 7567)\t0.4373624530864134\n",
      "  (0, 4048)\t0.43679227390701575\n",
      "  (0, 178)\t0.3898576085585064\n",
      "  (0, 7604)\t0.3705209016121007\n",
      "  (0, 7560)\t0.3508734093414831\n",
      "  (0, 3679)\t0.3275874265573783\n",
      "  (0, 4044)\t0.3134106398665652\n",
      "  (1, 6744)\t0.6438575214688421\n",
      "  (1, 2700)\t0.5163146882598632\n",
      "  (1, 3381)\t0.27682925740866865\n",
      "  (1, 5297)\t0.31898390770773705\n",
      "  (1, 6727)\t0.29781438829356\n",
      "  (1, 2481)\t0.15386704566304124\n",
      "  (1, 3300)\t0.16766927561556166\n",
      "  (2, 5103)\t0.46937507692879116\n",
      "  (2, 6060)\t0.21125520971331987\n",
      "  (2, 6304)\t0.45605665509423393\n",
      "  (2, 5100)\t0.3586034923530601\n",
      "  (2, 1586)\t0.2404496519551404\n",
      "  (2, 6279)\t0.5836592336442322\n",
      "  (3, 2411)\t0.34803486374657633\n",
      "  (3, 2451)\t0.4375941808629247\n",
      "  (3, 1710)\t0.26912603300974774\n",
      "  (3, 2410)\t0.27811905293124456\n",
      "  (3, 1991)\t0.2500042981739103\n",
      "  :\t:\n",
      "  (115882, 1903)\t0.39513476281629534\n",
      "  (115882, 1078)\t0.34326577329907326\n",
      "  (115882, 6566)\t0.28317700961693826\n",
      "  (115882, 4117)\t0.2538025604840124\n",
      "  (115882, 6879)\t0.30586371124\n",
      "  (115882, 5441)\t0.1721132079164436\n",
      "  (115885, 3022)\t0.37973924253980035\n",
      "  (115885, 6633)\t0.35824736905232\n",
      "  (115885, 7576)\t0.34002595519585377\n",
      "  (115885, 5029)\t0.35559771888607655\n",
      "  (115885, 7574)\t0.309745490983545\n",
      "  (115885, 3704)\t0.261800126630272\n",
      "  (115885, 1930)\t0.3074857395439039\n",
      "  (115885, 6632)\t0.33447335724336125\n",
      "  (115885, 3008)\t0.2065010603371114\n",
      "  (115885, 7158)\t0.2198688813167202\n",
      "  (115885, 4942)\t0.15330703587887934\n",
      "  (115888, 4552)\t0.4676211723014457\n",
      "  (115888, 5655)\t0.4100126091670733\n",
      "  (115888, 6723)\t0.37012475948594414\n",
      "  (115888, 5650)\t0.28283306797985686\n",
      "  (115888, 6587)\t0.4015012052353067\n",
      "  (115888, 6566)\t0.2699081354277951\n",
      "  (115888, 5676)\t0.3155285426149429\n",
      "  (115888, 5829)\t0.2502425563963523\n"
     ]
    }
   ],
   "source": [
    "print(final_tf_idf)"
   ]
  },
  {
   "cell_type": "markdown",
   "metadata": {},
   "source": [
    "<b><h1>Applying Naiv Byers Alogorithem on TF-IDF vector </h1></b>"
   ]
  },
  {
   "cell_type": "code",
   "execution_count": 30,
   "metadata": {},
   "outputs": [],
   "source": [
    "data_features=final_tf_idf.toarray()"
   ]
  },
  {
   "cell_type": "code",
   "execution_count": 31,
   "metadata": {},
   "outputs": [
    {
     "data": {
      "text/plain": [
       "(115892, 7831)"
      ]
     },
     "execution_count": 31,
     "metadata": {},
     "output_type": "execute_result"
    }
   ],
   "source": [
    "data_features = pd.DataFrame(data_features)\n",
    "data_features.shape"
   ]
  },
  {
   "cell_type": "code",
   "execution_count": 32,
   "metadata": {},
   "outputs": [
    {
     "data": {
      "text/html": [
       "<div>\n",
       "<style scoped>\n",
       "    .dataframe tbody tr th:only-of-type {\n",
       "        vertical-align: middle;\n",
       "    }\n",
       "\n",
       "    .dataframe tbody tr th {\n",
       "        vertical-align: top;\n",
       "    }\n",
       "\n",
       "    .dataframe thead th {\n",
       "        text-align: right;\n",
       "    }\n",
       "</style>\n",
       "<table border=\"1\" class=\"dataframe\">\n",
       "  <thead>\n",
       "    <tr style=\"text-align: right;\">\n",
       "      <th></th>\n",
       "      <th>0</th>\n",
       "      <th>1</th>\n",
       "      <th>2</th>\n",
       "      <th>3</th>\n",
       "      <th>4</th>\n",
       "      <th>5</th>\n",
       "      <th>6</th>\n",
       "      <th>7</th>\n",
       "      <th>8</th>\n",
       "      <th>9</th>\n",
       "      <th>...</th>\n",
       "      <th>7821</th>\n",
       "      <th>7822</th>\n",
       "      <th>7823</th>\n",
       "      <th>7824</th>\n",
       "      <th>7825</th>\n",
       "      <th>7826</th>\n",
       "      <th>7827</th>\n",
       "      <th>7828</th>\n",
       "      <th>7829</th>\n",
       "      <th>7830</th>\n",
       "    </tr>\n",
       "  </thead>\n",
       "  <tbody>\n",
       "    <tr>\n",
       "      <td>0</td>\n",
       "      <td>0.0</td>\n",
       "      <td>0.0</td>\n",
       "      <td>0.0</td>\n",
       "      <td>0.0</td>\n",
       "      <td>0.0</td>\n",
       "      <td>0.0</td>\n",
       "      <td>0.0</td>\n",
       "      <td>0.0</td>\n",
       "      <td>0.0</td>\n",
       "      <td>0.0</td>\n",
       "      <td>...</td>\n",
       "      <td>0.0</td>\n",
       "      <td>0.0</td>\n",
       "      <td>0.0</td>\n",
       "      <td>0.0</td>\n",
       "      <td>0.0</td>\n",
       "      <td>0.0</td>\n",
       "      <td>0.0</td>\n",
       "      <td>0.0</td>\n",
       "      <td>0.0</td>\n",
       "      <td>0.0</td>\n",
       "    </tr>\n",
       "    <tr>\n",
       "      <td>1</td>\n",
       "      <td>0.0</td>\n",
       "      <td>0.0</td>\n",
       "      <td>0.0</td>\n",
       "      <td>0.0</td>\n",
       "      <td>0.0</td>\n",
       "      <td>0.0</td>\n",
       "      <td>0.0</td>\n",
       "      <td>0.0</td>\n",
       "      <td>0.0</td>\n",
       "      <td>0.0</td>\n",
       "      <td>...</td>\n",
       "      <td>0.0</td>\n",
       "      <td>0.0</td>\n",
       "      <td>0.0</td>\n",
       "      <td>0.0</td>\n",
       "      <td>0.0</td>\n",
       "      <td>0.0</td>\n",
       "      <td>0.0</td>\n",
       "      <td>0.0</td>\n",
       "      <td>0.0</td>\n",
       "      <td>0.0</td>\n",
       "    </tr>\n",
       "    <tr>\n",
       "      <td>2</td>\n",
       "      <td>0.0</td>\n",
       "      <td>0.0</td>\n",
       "      <td>0.0</td>\n",
       "      <td>0.0</td>\n",
       "      <td>0.0</td>\n",
       "      <td>0.0</td>\n",
       "      <td>0.0</td>\n",
       "      <td>0.0</td>\n",
       "      <td>0.0</td>\n",
       "      <td>0.0</td>\n",
       "      <td>...</td>\n",
       "      <td>0.0</td>\n",
       "      <td>0.0</td>\n",
       "      <td>0.0</td>\n",
       "      <td>0.0</td>\n",
       "      <td>0.0</td>\n",
       "      <td>0.0</td>\n",
       "      <td>0.0</td>\n",
       "      <td>0.0</td>\n",
       "      <td>0.0</td>\n",
       "      <td>0.0</td>\n",
       "    </tr>\n",
       "    <tr>\n",
       "      <td>3</td>\n",
       "      <td>0.0</td>\n",
       "      <td>0.0</td>\n",
       "      <td>0.0</td>\n",
       "      <td>0.0</td>\n",
       "      <td>0.0</td>\n",
       "      <td>0.0</td>\n",
       "      <td>0.0</td>\n",
       "      <td>0.0</td>\n",
       "      <td>0.0</td>\n",
       "      <td>0.0</td>\n",
       "      <td>...</td>\n",
       "      <td>0.0</td>\n",
       "      <td>0.0</td>\n",
       "      <td>0.0</td>\n",
       "      <td>0.0</td>\n",
       "      <td>0.0</td>\n",
       "      <td>0.0</td>\n",
       "      <td>0.0</td>\n",
       "      <td>0.0</td>\n",
       "      <td>0.0</td>\n",
       "      <td>0.0</td>\n",
       "    </tr>\n",
       "    <tr>\n",
       "      <td>4</td>\n",
       "      <td>0.0</td>\n",
       "      <td>0.0</td>\n",
       "      <td>0.0</td>\n",
       "      <td>0.0</td>\n",
       "      <td>0.0</td>\n",
       "      <td>0.0</td>\n",
       "      <td>0.0</td>\n",
       "      <td>0.0</td>\n",
       "      <td>0.0</td>\n",
       "      <td>0.0</td>\n",
       "      <td>...</td>\n",
       "      <td>0.0</td>\n",
       "      <td>0.0</td>\n",
       "      <td>0.0</td>\n",
       "      <td>0.0</td>\n",
       "      <td>0.0</td>\n",
       "      <td>0.0</td>\n",
       "      <td>0.0</td>\n",
       "      <td>0.0</td>\n",
       "      <td>0.0</td>\n",
       "      <td>0.0</td>\n",
       "    </tr>\n",
       "    <tr>\n",
       "      <td>...</td>\n",
       "      <td>...</td>\n",
       "      <td>...</td>\n",
       "      <td>...</td>\n",
       "      <td>...</td>\n",
       "      <td>...</td>\n",
       "      <td>...</td>\n",
       "      <td>...</td>\n",
       "      <td>...</td>\n",
       "      <td>...</td>\n",
       "      <td>...</td>\n",
       "      <td>...</td>\n",
       "      <td>...</td>\n",
       "      <td>...</td>\n",
       "      <td>...</td>\n",
       "      <td>...</td>\n",
       "      <td>...</td>\n",
       "      <td>...</td>\n",
       "      <td>...</td>\n",
       "      <td>...</td>\n",
       "      <td>...</td>\n",
       "      <td>...</td>\n",
       "    </tr>\n",
       "    <tr>\n",
       "      <td>115887</td>\n",
       "      <td>0.0</td>\n",
       "      <td>0.0</td>\n",
       "      <td>0.0</td>\n",
       "      <td>0.0</td>\n",
       "      <td>0.0</td>\n",
       "      <td>0.0</td>\n",
       "      <td>0.0</td>\n",
       "      <td>0.0</td>\n",
       "      <td>0.0</td>\n",
       "      <td>0.0</td>\n",
       "      <td>...</td>\n",
       "      <td>0.0</td>\n",
       "      <td>0.0</td>\n",
       "      <td>0.0</td>\n",
       "      <td>0.0</td>\n",
       "      <td>0.0</td>\n",
       "      <td>0.0</td>\n",
       "      <td>0.0</td>\n",
       "      <td>0.0</td>\n",
       "      <td>0.0</td>\n",
       "      <td>0.0</td>\n",
       "    </tr>\n",
       "    <tr>\n",
       "      <td>115888</td>\n",
       "      <td>0.0</td>\n",
       "      <td>0.0</td>\n",
       "      <td>0.0</td>\n",
       "      <td>0.0</td>\n",
       "      <td>0.0</td>\n",
       "      <td>0.0</td>\n",
       "      <td>0.0</td>\n",
       "      <td>0.0</td>\n",
       "      <td>0.0</td>\n",
       "      <td>0.0</td>\n",
       "      <td>...</td>\n",
       "      <td>0.0</td>\n",
       "      <td>0.0</td>\n",
       "      <td>0.0</td>\n",
       "      <td>0.0</td>\n",
       "      <td>0.0</td>\n",
       "      <td>0.0</td>\n",
       "      <td>0.0</td>\n",
       "      <td>0.0</td>\n",
       "      <td>0.0</td>\n",
       "      <td>0.0</td>\n",
       "    </tr>\n",
       "    <tr>\n",
       "      <td>115889</td>\n",
       "      <td>0.0</td>\n",
       "      <td>0.0</td>\n",
       "      <td>0.0</td>\n",
       "      <td>0.0</td>\n",
       "      <td>0.0</td>\n",
       "      <td>0.0</td>\n",
       "      <td>0.0</td>\n",
       "      <td>0.0</td>\n",
       "      <td>0.0</td>\n",
       "      <td>0.0</td>\n",
       "      <td>...</td>\n",
       "      <td>0.0</td>\n",
       "      <td>0.0</td>\n",
       "      <td>0.0</td>\n",
       "      <td>0.0</td>\n",
       "      <td>0.0</td>\n",
       "      <td>0.0</td>\n",
       "      <td>0.0</td>\n",
       "      <td>0.0</td>\n",
       "      <td>0.0</td>\n",
       "      <td>0.0</td>\n",
       "    </tr>\n",
       "    <tr>\n",
       "      <td>115890</td>\n",
       "      <td>0.0</td>\n",
       "      <td>0.0</td>\n",
       "      <td>0.0</td>\n",
       "      <td>0.0</td>\n",
       "      <td>0.0</td>\n",
       "      <td>0.0</td>\n",
       "      <td>0.0</td>\n",
       "      <td>0.0</td>\n",
       "      <td>0.0</td>\n",
       "      <td>0.0</td>\n",
       "      <td>...</td>\n",
       "      <td>0.0</td>\n",
       "      <td>0.0</td>\n",
       "      <td>0.0</td>\n",
       "      <td>0.0</td>\n",
       "      <td>0.0</td>\n",
       "      <td>0.0</td>\n",
       "      <td>0.0</td>\n",
       "      <td>0.0</td>\n",
       "      <td>0.0</td>\n",
       "      <td>0.0</td>\n",
       "    </tr>\n",
       "    <tr>\n",
       "      <td>115891</td>\n",
       "      <td>0.0</td>\n",
       "      <td>0.0</td>\n",
       "      <td>0.0</td>\n",
       "      <td>0.0</td>\n",
       "      <td>0.0</td>\n",
       "      <td>0.0</td>\n",
       "      <td>0.0</td>\n",
       "      <td>0.0</td>\n",
       "      <td>0.0</td>\n",
       "      <td>0.0</td>\n",
       "      <td>...</td>\n",
       "      <td>0.0</td>\n",
       "      <td>0.0</td>\n",
       "      <td>0.0</td>\n",
       "      <td>0.0</td>\n",
       "      <td>0.0</td>\n",
       "      <td>0.0</td>\n",
       "      <td>0.0</td>\n",
       "      <td>0.0</td>\n",
       "      <td>0.0</td>\n",
       "      <td>0.0</td>\n",
       "    </tr>\n",
       "  </tbody>\n",
       "</table>\n",
       "<p>115892 rows × 7831 columns</p>\n",
       "</div>"
      ],
      "text/plain": [
       "        0     1     2     3     4     5     6     7     8     9     ...  7821  \\\n",
       "0        0.0   0.0   0.0   0.0   0.0   0.0   0.0   0.0   0.0   0.0  ...   0.0   \n",
       "1        0.0   0.0   0.0   0.0   0.0   0.0   0.0   0.0   0.0   0.0  ...   0.0   \n",
       "2        0.0   0.0   0.0   0.0   0.0   0.0   0.0   0.0   0.0   0.0  ...   0.0   \n",
       "3        0.0   0.0   0.0   0.0   0.0   0.0   0.0   0.0   0.0   0.0  ...   0.0   \n",
       "4        0.0   0.0   0.0   0.0   0.0   0.0   0.0   0.0   0.0   0.0  ...   0.0   \n",
       "...      ...   ...   ...   ...   ...   ...   ...   ...   ...   ...  ...   ...   \n",
       "115887   0.0   0.0   0.0   0.0   0.0   0.0   0.0   0.0   0.0   0.0  ...   0.0   \n",
       "115888   0.0   0.0   0.0   0.0   0.0   0.0   0.0   0.0   0.0   0.0  ...   0.0   \n",
       "115889   0.0   0.0   0.0   0.0   0.0   0.0   0.0   0.0   0.0   0.0  ...   0.0   \n",
       "115890   0.0   0.0   0.0   0.0   0.0   0.0   0.0   0.0   0.0   0.0  ...   0.0   \n",
       "115891   0.0   0.0   0.0   0.0   0.0   0.0   0.0   0.0   0.0   0.0  ...   0.0   \n",
       "\n",
       "        7822  7823  7824  7825  7826  7827  7828  7829  7830  \n",
       "0        0.0   0.0   0.0   0.0   0.0   0.0   0.0   0.0   0.0  \n",
       "1        0.0   0.0   0.0   0.0   0.0   0.0   0.0   0.0   0.0  \n",
       "2        0.0   0.0   0.0   0.0   0.0   0.0   0.0   0.0   0.0  \n",
       "3        0.0   0.0   0.0   0.0   0.0   0.0   0.0   0.0   0.0  \n",
       "4        0.0   0.0   0.0   0.0   0.0   0.0   0.0   0.0   0.0  \n",
       "...      ...   ...   ...   ...   ...   ...   ...   ...   ...  \n",
       "115887   0.0   0.0   0.0   0.0   0.0   0.0   0.0   0.0   0.0  \n",
       "115888   0.0   0.0   0.0   0.0   0.0   0.0   0.0   0.0   0.0  \n",
       "115889   0.0   0.0   0.0   0.0   0.0   0.0   0.0   0.0   0.0  \n",
       "115890   0.0   0.0   0.0   0.0   0.0   0.0   0.0   0.0   0.0  \n",
       "115891   0.0   0.0   0.0   0.0   0.0   0.0   0.0   0.0   0.0  \n",
       "\n",
       "[115892 rows x 7831 columns]"
      ]
     },
     "execution_count": 32,
     "metadata": {},
     "output_type": "execute_result"
    }
   ],
   "source": [
    "data_features"
   ]
  },
  {
   "cell_type": "code",
   "execution_count": 33,
   "metadata": {},
   "outputs": [
    {
     "data": {
      "text/html": [
       "<div>\n",
       "<style scoped>\n",
       "    .dataframe tbody tr th:only-of-type {\n",
       "        vertical-align: middle;\n",
       "    }\n",
       "\n",
       "    .dataframe tbody tr th {\n",
       "        vertical-align: top;\n",
       "    }\n",
       "\n",
       "    .dataframe thead th {\n",
       "        text-align: right;\n",
       "    }\n",
       "</style>\n",
       "<table border=\"1\" class=\"dataframe\">\n",
       "  <thead>\n",
       "    <tr style=\"text-align: right;\">\n",
       "      <th></th>\n",
       "      <th>0</th>\n",
       "      <th>1</th>\n",
       "      <th>2</th>\n",
       "      <th>3</th>\n",
       "      <th>4</th>\n",
       "      <th>5</th>\n",
       "      <th>6</th>\n",
       "      <th>7</th>\n",
       "      <th>8</th>\n",
       "      <th>9</th>\n",
       "      <th>...</th>\n",
       "      <th>7822</th>\n",
       "      <th>7823</th>\n",
       "      <th>7824</th>\n",
       "      <th>7825</th>\n",
       "      <th>7826</th>\n",
       "      <th>7827</th>\n",
       "      <th>7828</th>\n",
       "      <th>7829</th>\n",
       "      <th>7830</th>\n",
       "      <th>sentiment</th>\n",
       "    </tr>\n",
       "  </thead>\n",
       "  <tbody>\n",
       "    <tr>\n",
       "      <td>0</td>\n",
       "      <td>0.0</td>\n",
       "      <td>0.0</td>\n",
       "      <td>0.0</td>\n",
       "      <td>0.0</td>\n",
       "      <td>0.0</td>\n",
       "      <td>0.0</td>\n",
       "      <td>0.0</td>\n",
       "      <td>0.0</td>\n",
       "      <td>0.0</td>\n",
       "      <td>0.0</td>\n",
       "      <td>...</td>\n",
       "      <td>0.0</td>\n",
       "      <td>0.0</td>\n",
       "      <td>0.0</td>\n",
       "      <td>0.0</td>\n",
       "      <td>0.0</td>\n",
       "      <td>0.0</td>\n",
       "      <td>0.0</td>\n",
       "      <td>0.0</td>\n",
       "      <td>0.0</td>\n",
       "      <td>1.0</td>\n",
       "    </tr>\n",
       "    <tr>\n",
       "      <td>1</td>\n",
       "      <td>0.0</td>\n",
       "      <td>0.0</td>\n",
       "      <td>0.0</td>\n",
       "      <td>0.0</td>\n",
       "      <td>0.0</td>\n",
       "      <td>0.0</td>\n",
       "      <td>0.0</td>\n",
       "      <td>0.0</td>\n",
       "      <td>0.0</td>\n",
       "      <td>0.0</td>\n",
       "      <td>...</td>\n",
       "      <td>0.0</td>\n",
       "      <td>0.0</td>\n",
       "      <td>0.0</td>\n",
       "      <td>0.0</td>\n",
       "      <td>0.0</td>\n",
       "      <td>0.0</td>\n",
       "      <td>0.0</td>\n",
       "      <td>0.0</td>\n",
       "      <td>0.0</td>\n",
       "      <td>1.0</td>\n",
       "    </tr>\n",
       "    <tr>\n",
       "      <td>2</td>\n",
       "      <td>0.0</td>\n",
       "      <td>0.0</td>\n",
       "      <td>0.0</td>\n",
       "      <td>0.0</td>\n",
       "      <td>0.0</td>\n",
       "      <td>0.0</td>\n",
       "      <td>0.0</td>\n",
       "      <td>0.0</td>\n",
       "      <td>0.0</td>\n",
       "      <td>0.0</td>\n",
       "      <td>...</td>\n",
       "      <td>0.0</td>\n",
       "      <td>0.0</td>\n",
       "      <td>0.0</td>\n",
       "      <td>0.0</td>\n",
       "      <td>0.0</td>\n",
       "      <td>0.0</td>\n",
       "      <td>0.0</td>\n",
       "      <td>0.0</td>\n",
       "      <td>0.0</td>\n",
       "      <td>1.0</td>\n",
       "    </tr>\n",
       "    <tr>\n",
       "      <td>3</td>\n",
       "      <td>0.0</td>\n",
       "      <td>0.0</td>\n",
       "      <td>0.0</td>\n",
       "      <td>0.0</td>\n",
       "      <td>0.0</td>\n",
       "      <td>0.0</td>\n",
       "      <td>0.0</td>\n",
       "      <td>0.0</td>\n",
       "      <td>0.0</td>\n",
       "      <td>0.0</td>\n",
       "      <td>...</td>\n",
       "      <td>0.0</td>\n",
       "      <td>0.0</td>\n",
       "      <td>0.0</td>\n",
       "      <td>0.0</td>\n",
       "      <td>0.0</td>\n",
       "      <td>0.0</td>\n",
       "      <td>0.0</td>\n",
       "      <td>0.0</td>\n",
       "      <td>0.0</td>\n",
       "      <td>1.0</td>\n",
       "    </tr>\n",
       "    <tr>\n",
       "      <td>4</td>\n",
       "      <td>0.0</td>\n",
       "      <td>0.0</td>\n",
       "      <td>0.0</td>\n",
       "      <td>0.0</td>\n",
       "      <td>0.0</td>\n",
       "      <td>0.0</td>\n",
       "      <td>0.0</td>\n",
       "      <td>0.0</td>\n",
       "      <td>0.0</td>\n",
       "      <td>0.0</td>\n",
       "      <td>...</td>\n",
       "      <td>0.0</td>\n",
       "      <td>0.0</td>\n",
       "      <td>0.0</td>\n",
       "      <td>0.0</td>\n",
       "      <td>0.0</td>\n",
       "      <td>0.0</td>\n",
       "      <td>0.0</td>\n",
       "      <td>0.0</td>\n",
       "      <td>0.0</td>\n",
       "      <td>1.0</td>\n",
       "    </tr>\n",
       "    <tr>\n",
       "      <td>...</td>\n",
       "      <td>...</td>\n",
       "      <td>...</td>\n",
       "      <td>...</td>\n",
       "      <td>...</td>\n",
       "      <td>...</td>\n",
       "      <td>...</td>\n",
       "      <td>...</td>\n",
       "      <td>...</td>\n",
       "      <td>...</td>\n",
       "      <td>...</td>\n",
       "      <td>...</td>\n",
       "      <td>...</td>\n",
       "      <td>...</td>\n",
       "      <td>...</td>\n",
       "      <td>...</td>\n",
       "      <td>...</td>\n",
       "      <td>...</td>\n",
       "      <td>...</td>\n",
       "      <td>...</td>\n",
       "      <td>...</td>\n",
       "      <td>...</td>\n",
       "    </tr>\n",
       "    <tr>\n",
       "      <td>115887</td>\n",
       "      <td>0.0</td>\n",
       "      <td>0.0</td>\n",
       "      <td>0.0</td>\n",
       "      <td>0.0</td>\n",
       "      <td>0.0</td>\n",
       "      <td>0.0</td>\n",
       "      <td>0.0</td>\n",
       "      <td>0.0</td>\n",
       "      <td>0.0</td>\n",
       "      <td>0.0</td>\n",
       "      <td>...</td>\n",
       "      <td>0.0</td>\n",
       "      <td>0.0</td>\n",
       "      <td>0.0</td>\n",
       "      <td>0.0</td>\n",
       "      <td>0.0</td>\n",
       "      <td>0.0</td>\n",
       "      <td>0.0</td>\n",
       "      <td>0.0</td>\n",
       "      <td>0.0</td>\n",
       "      <td>1.0</td>\n",
       "    </tr>\n",
       "    <tr>\n",
       "      <td>115888</td>\n",
       "      <td>0.0</td>\n",
       "      <td>0.0</td>\n",
       "      <td>0.0</td>\n",
       "      <td>0.0</td>\n",
       "      <td>0.0</td>\n",
       "      <td>0.0</td>\n",
       "      <td>0.0</td>\n",
       "      <td>0.0</td>\n",
       "      <td>0.0</td>\n",
       "      <td>0.0</td>\n",
       "      <td>...</td>\n",
       "      <td>0.0</td>\n",
       "      <td>0.0</td>\n",
       "      <td>0.0</td>\n",
       "      <td>0.0</td>\n",
       "      <td>0.0</td>\n",
       "      <td>0.0</td>\n",
       "      <td>0.0</td>\n",
       "      <td>0.0</td>\n",
       "      <td>0.0</td>\n",
       "      <td>1.0</td>\n",
       "    </tr>\n",
       "    <tr>\n",
       "      <td>115889</td>\n",
       "      <td>0.0</td>\n",
       "      <td>0.0</td>\n",
       "      <td>0.0</td>\n",
       "      <td>0.0</td>\n",
       "      <td>0.0</td>\n",
       "      <td>0.0</td>\n",
       "      <td>0.0</td>\n",
       "      <td>0.0</td>\n",
       "      <td>0.0</td>\n",
       "      <td>0.0</td>\n",
       "      <td>...</td>\n",
       "      <td>0.0</td>\n",
       "      <td>0.0</td>\n",
       "      <td>0.0</td>\n",
       "      <td>0.0</td>\n",
       "      <td>0.0</td>\n",
       "      <td>0.0</td>\n",
       "      <td>0.0</td>\n",
       "      <td>0.0</td>\n",
       "      <td>0.0</td>\n",
       "      <td>1.0</td>\n",
       "    </tr>\n",
       "    <tr>\n",
       "      <td>115890</td>\n",
       "      <td>0.0</td>\n",
       "      <td>0.0</td>\n",
       "      <td>0.0</td>\n",
       "      <td>0.0</td>\n",
       "      <td>0.0</td>\n",
       "      <td>0.0</td>\n",
       "      <td>0.0</td>\n",
       "      <td>0.0</td>\n",
       "      <td>0.0</td>\n",
       "      <td>0.0</td>\n",
       "      <td>...</td>\n",
       "      <td>0.0</td>\n",
       "      <td>0.0</td>\n",
       "      <td>0.0</td>\n",
       "      <td>0.0</td>\n",
       "      <td>0.0</td>\n",
       "      <td>0.0</td>\n",
       "      <td>0.0</td>\n",
       "      <td>0.0</td>\n",
       "      <td>0.0</td>\n",
       "      <td>1.0</td>\n",
       "    </tr>\n",
       "    <tr>\n",
       "      <td>115891</td>\n",
       "      <td>0.0</td>\n",
       "      <td>0.0</td>\n",
       "      <td>0.0</td>\n",
       "      <td>0.0</td>\n",
       "      <td>0.0</td>\n",
       "      <td>0.0</td>\n",
       "      <td>0.0</td>\n",
       "      <td>0.0</td>\n",
       "      <td>0.0</td>\n",
       "      <td>0.0</td>\n",
       "      <td>...</td>\n",
       "      <td>0.0</td>\n",
       "      <td>0.0</td>\n",
       "      <td>0.0</td>\n",
       "      <td>0.0</td>\n",
       "      <td>0.0</td>\n",
       "      <td>0.0</td>\n",
       "      <td>0.0</td>\n",
       "      <td>0.0</td>\n",
       "      <td>0.0</td>\n",
       "      <td>1.0</td>\n",
       "    </tr>\n",
       "  </tbody>\n",
       "</table>\n",
       "<p>115892 rows × 7832 columns</p>\n",
       "</div>"
      ],
      "text/plain": [
       "          0    1    2    3    4    5    6    7    8    9  ...  7822  7823  \\\n",
       "0       0.0  0.0  0.0  0.0  0.0  0.0  0.0  0.0  0.0  0.0  ...   0.0   0.0   \n",
       "1       0.0  0.0  0.0  0.0  0.0  0.0  0.0  0.0  0.0  0.0  ...   0.0   0.0   \n",
       "2       0.0  0.0  0.0  0.0  0.0  0.0  0.0  0.0  0.0  0.0  ...   0.0   0.0   \n",
       "3       0.0  0.0  0.0  0.0  0.0  0.0  0.0  0.0  0.0  0.0  ...   0.0   0.0   \n",
       "4       0.0  0.0  0.0  0.0  0.0  0.0  0.0  0.0  0.0  0.0  ...   0.0   0.0   \n",
       "...     ...  ...  ...  ...  ...  ...  ...  ...  ...  ...  ...   ...   ...   \n",
       "115887  0.0  0.0  0.0  0.0  0.0  0.0  0.0  0.0  0.0  0.0  ...   0.0   0.0   \n",
       "115888  0.0  0.0  0.0  0.0  0.0  0.0  0.0  0.0  0.0  0.0  ...   0.0   0.0   \n",
       "115889  0.0  0.0  0.0  0.0  0.0  0.0  0.0  0.0  0.0  0.0  ...   0.0   0.0   \n",
       "115890  0.0  0.0  0.0  0.0  0.0  0.0  0.0  0.0  0.0  0.0  ...   0.0   0.0   \n",
       "115891  0.0  0.0  0.0  0.0  0.0  0.0  0.0  0.0  0.0  0.0  ...   0.0   0.0   \n",
       "\n",
       "        7824  7825  7826  7827  7828  7829  7830  sentiment  \n",
       "0        0.0   0.0   0.0   0.0   0.0   0.0   0.0        1.0  \n",
       "1        0.0   0.0   0.0   0.0   0.0   0.0   0.0        1.0  \n",
       "2        0.0   0.0   0.0   0.0   0.0   0.0   0.0        1.0  \n",
       "3        0.0   0.0   0.0   0.0   0.0   0.0   0.0        1.0  \n",
       "4        0.0   0.0   0.0   0.0   0.0   0.0   0.0        1.0  \n",
       "...      ...   ...   ...   ...   ...   ...   ...        ...  \n",
       "115887   0.0   0.0   0.0   0.0   0.0   0.0   0.0        1.0  \n",
       "115888   0.0   0.0   0.0   0.0   0.0   0.0   0.0        1.0  \n",
       "115889   0.0   0.0   0.0   0.0   0.0   0.0   0.0        1.0  \n",
       "115890   0.0   0.0   0.0   0.0   0.0   0.0   0.0        1.0  \n",
       "115891   0.0   0.0   0.0   0.0   0.0   0.0   0.0        1.0  \n",
       "\n",
       "[115892 rows x 7832 columns]"
      ]
     },
     "execution_count": 33,
     "metadata": {},
     "output_type": "execute_result"
    }
   ],
   "source": [
    "data_features['sentiment']=ratings1[\"newrating\"]\n",
    "data_features"
   ]
  },
  {
   "cell_type": "code",
   "execution_count": 34,
   "metadata": {},
   "outputs": [],
   "source": [
    "data_features=data_features.dropna()"
   ]
  },
  {
   "cell_type": "code",
   "execution_count": 35,
   "metadata": {},
   "outputs": [],
   "source": [
    "from sklearn.model_selection import train_test_split\n",
    "train, test = train_test_split(data_features, test_size = 0.2,random_state=0)\n"
   ]
  },
  {
   "cell_type": "code",
   "execution_count": 36,
   "metadata": {},
   "outputs": [
    {
     "name": "stderr",
     "output_type": "stream",
     "text": [
      "C:\\Users\\anant\\Anaconda3\\lib\\site-packages\\ipykernel_launcher.py:1: UserWarning: Pandas doesn't allow columns to be created via a new attribute name - see https://pandas.pydata.org/pandas-docs/stable/indexing.html#attribute-access\n",
      "  \"\"\"Entry point for launching an IPython kernel.\n",
      "C:\\Users\\anant\\Anaconda3\\lib\\site-packages\\ipykernel_launcher.py:2: UserWarning: Pandas doesn't allow columns to be created via a new attribute name - see https://pandas.pydata.org/pandas-docs/stable/indexing.html#attribute-access\n",
      "  \n"
     ]
    }
   ],
   "source": [
    "train.x = train.head(1000).drop([\"sentiment\"],axis=1)\n",
    "train.y = train.head(1000)['sentiment']"
   ]
  },
  {
   "cell_type": "code",
   "execution_count": 37,
   "metadata": {},
   "outputs": [
    {
     "name": "stderr",
     "output_type": "stream",
     "text": [
      "C:\\Users\\anant\\Anaconda3\\lib\\site-packages\\ipykernel_launcher.py:1: UserWarning: Pandas doesn't allow columns to be created via a new attribute name - see https://pandas.pydata.org/pandas-docs/stable/indexing.html#attribute-access\n",
      "  \"\"\"Entry point for launching an IPython kernel.\n",
      "C:\\Users\\anant\\Anaconda3\\lib\\site-packages\\ipykernel_launcher.py:2: UserWarning: Pandas doesn't allow columns to be created via a new attribute name - see https://pandas.pydata.org/pandas-docs/stable/indexing.html#attribute-access\n",
      "  \n"
     ]
    }
   ],
   "source": [
    "test.x = test.head(1000).drop([\"sentiment\"],axis=1)\n",
    "test.y = test.head(1000)['sentiment']"
   ]
  },
  {
   "cell_type": "code",
   "execution_count": 38,
   "metadata": {},
   "outputs": [],
   "source": [
    "from sklearn.naive_bayes import GaussianNB\n",
    "from sklearn.metrics import confusion_matrix"
   ]
  },
  {
   "cell_type": "code",
   "execution_count": 39,
   "metadata": {},
   "outputs": [
    {
     "data": {
      "text/plain": [
       "array([[ 17,  44],\n",
       "       [232, 707]], dtype=int64)"
      ]
     },
     "execution_count": 39,
     "metadata": {},
     "output_type": "execute_result"
    }
   ],
   "source": [
    "gnb = GaussianNB()\n",
    "y_pred = gnb.fit(train.x, train.y).predict(test.x)\n",
    "confusion_matrix(test.y, y_pred)"
   ]
  },
  {
   "cell_type": "code",
   "execution_count": 40,
   "metadata": {},
   "outputs": [
    {
     "data": {
      "text/plain": [
       "0.724"
      ]
     },
     "execution_count": 40,
     "metadata": {},
     "output_type": "execute_result"
    }
   ],
   "source": [
    "accuracy_nb = metrics.accuracy_score(test.y, y_pred)\n",
    "accuracy_nb"
   ]
  },
  {
   "cell_type": "code",
   "execution_count": 41,
   "metadata": {},
   "outputs": [],
   "source": [
    "# Train your own Word2Vec model using your own text corpus\n",
    "i=0\n",
    "list_of_sentance=[]\n",
    "for sentance in preprocessed_reviews:\n",
    "    list_of_sentance.append(sentance.split())"
   ]
  },
  {
   "cell_type": "code",
   "execution_count": 42,
   "metadata": {},
   "outputs": [
    {
     "data": {
      "text/plain": [
       "['great', 'cozy', 'place', 'delicious', 'generous']"
      ]
     },
     "execution_count": 42,
     "metadata": {},
     "output_type": "execute_result"
    }
   ],
   "source": [
    "list_of_sentance[1000]"
   ]
  },
  {
   "cell_type": "code",
   "execution_count": 43,
   "metadata": {},
   "outputs": [],
   "source": [
    "from gensim.models import Word2Vec"
   ]
  },
  {
   "cell_type": "code",
   "execution_count": 44,
   "metadata": {},
   "outputs": [
    {
     "name": "stdout",
     "output_type": "stream",
     "text": [
      "[('excellent', 0.86313396692276), ('fab', 0.8398777842521667), ('awesome', 0.8351494073867798), ('brilliant', 0.8341111540794373), ('fantastic', 0.8105465173721313), ('good', 0.8078821897506714), ('lovely', 0.7963447570800781), ('nice', 0.7872859239578247), ('superb', 0.7846801280975342), ('terrific', 0.7623642683029175)]\n",
      "==================================================\n",
      "[('worse', 0.8403912782669067), ('eaten', 0.7632027268409729), ('horrible', 0.7392668128013611), ('tasted', 0.7256589531898499), ('slowest', 0.7245321273803711), ('disgusting', 0.6976439952850342), ('best', 0.6877253651618958), ('terrible', 0.6726441383361816), ('smallest', 0.6622772216796875), ('favourites', 0.6528182625770569)]\n"
     ]
    }
   ],
   "source": [
    "is_your_ram_gt_16g=False\n",
    "want_to_use_google_w2v = False\n",
    "want_to_train_w2v = True\n",
    "\n",
    "if want_to_train_w2v:\n",
    "    # min_count = 5 considers only words that occured atleast 5 times\n",
    "    w2v_model=Word2Vec(list_of_sentance,min_count=5,size=50, workers=4)\n",
    "    print(w2v_model.wv.most_similar('great'))\n",
    "    print('='*50)\n",
    "    print(w2v_model.wv.most_similar('worst'))\n",
    "    \n",
    "elif want_to_use_google_w2v and is_your_ram_gt_16g:\n",
    "    if os.path.isfile('GoogleNews-vectors-negative300.bin'):\n",
    "        w2v_model=KeyedVectors.load_word2vec_format('GoogleNews-vectors-negative300.bin', binary=True)\n",
    "        print(w2v_model.wv.most_similar('great'))\n",
    "        print(w2v_model.wv.most_similar('worst'))\n",
    "    else:\n",
    "        print(\"you don't have gogole's word2vec file, keep want_to_train_w2v = True, to train your own w2v \")"
   ]
  },
  {
   "cell_type": "code",
   "execution_count": 45,
   "metadata": {},
   "outputs": [
    {
     "name": "stdout",
     "output_type": "stream",
     "text": [
      "number of words that occured minimum 5 times  5027\n",
      "sample words  ['like', 'home', 'warm', 'welcome', 'amsterdam', 'great', 'food', 'staff', 'perfect', 'satisfaction', 'delicious', 'old', 'school', 'restaurant', 'true', 'five', 'star', 'dinner', 'superb', 'evening', 'fine', 'dining', 'best', 'meal', 'ever', 'isuper', 'experience', 'treat', 'wow', 'birthday', 'family', 'one', 'meals', 'delight', 'service', 'superior', 'exciting', 'setting', 'around', 'excellent', 'herring', 'lovely', 'rustic', 'fish', 'shop', 'simply', 'amazing', 'burgers', 'hidden', 'gem']\n"
     ]
    }
   ],
   "source": [
    "w2v_words = list(w2v_model.wv.vocab)\n",
    "print(\"number of words that occured minimum 5 times \",len(w2v_words))\n",
    "print(\"sample words \", w2v_words[0:50])"
   ]
  },
  {
   "cell_type": "markdown",
   "metadata": {},
   "source": [
    "<b><h1>Converting text into vectors using wAvg W2V, TFIDF-W2V</h1></b>"
   ]
  },
  {
   "cell_type": "code",
   "execution_count": 46,
   "metadata": {},
   "outputs": [
    {
     "name": "stderr",
     "output_type": "stream",
     "text": [
      "100%|████████████████████████████████████████████████████████████████████████| 115892/115892 [00:26<00:00, 4350.31it/s]\n"
     ]
    },
    {
     "name": "stdout",
     "output_type": "stream",
     "text": [
      "115892\n",
      "50\n"
     ]
    }
   ],
   "source": [
    "# average Word2Vec\n",
    "# compute average word2vec for each review.\n",
    "sent_vectors = []; # the avg-w2v for each sentence/review is stored in this list\n",
    "for sent in tqdm(list_of_sentance): # for each review/sentence\n",
    "    sent_vec = np.zeros(50) # as word vectors are of zero length 50, you might need to change this to 300 if you use google's w2v\n",
    "    cnt_words =0; # num of words with a valid vector in the sentence/review\n",
    "    for word in sent: # for each word in a review/sentence\n",
    "        if word in w2v_words:\n",
    "            vec = w2v_model.wv[word]\n",
    "            sent_vec += vec\n",
    "            cnt_words += 1\n",
    "    if cnt_words != 0:\n",
    "        sent_vec /= cnt_words\n",
    "    sent_vectors.append(sent_vec)\n",
    "print(len(sent_vectors))\n",
    "print(len(sent_vectors[0]))"
   ]
  },
  {
   "cell_type": "code",
   "execution_count": 47,
   "metadata": {},
   "outputs": [
    {
     "data": {
      "text/plain": [
       "array([-0.49077635,  0.84145642, -0.40996147, -0.41553642,  0.31504727,\n",
       "        0.37489981,  0.38082016,  0.40396016, -0.16377822,  0.09130148,\n",
       "        1.11266528,  0.66957027, -0.25823652,  0.0028001 ,  0.35614034,\n",
       "       -0.74981509, -0.29003984, -0.62874758,  0.57627843,  0.3446049 ,\n",
       "       -0.03200435,  0.51145033, -0.17023855, -0.56853795,  0.21742738,\n",
       "       -0.53293182, -0.26266566,  0.28537247,  0.13177997,  0.30695688,\n",
       "       -1.01270311,  0.48980156,  0.31965527,  0.11043684,  0.20761512,\n",
       "        0.19163141, -1.32547192, -0.13255341, -0.27736221,  0.48445992,\n",
       "        0.4763475 ,  0.18921153, -0.4185276 ,  0.38286587,  0.48197078,\n",
       "        0.62785447, -0.0632121 , -0.20880338,  0.50636809,  0.62545152])"
      ]
     },
     "execution_count": 47,
     "metadata": {},
     "output_type": "execute_result"
    }
   ],
   "source": [
    "sent_vectors[0]"
   ]
  },
  {
   "cell_type": "markdown",
   "metadata": {},
   "source": [
    "<b><h1>TFIDF weighted W2v</h1></b>"
   ]
  },
  {
   "cell_type": "code",
   "execution_count": 48,
   "metadata": {},
   "outputs": [
    {
     "data": {
      "text/plain": [
       "'like home warm welcome wintry amsterdam'"
      ]
     },
     "execution_count": 48,
     "metadata": {},
     "output_type": "execute_result"
    }
   ],
   "source": [
    "preprocessed_reviews[0]"
   ]
  },
  {
   "cell_type": "code",
   "execution_count": 49,
   "metadata": {},
   "outputs": [
    {
     "data": {
      "text/plain": [
       "{'aa': 11.561810341941893,\n",
       " 'aaaaaa': 11.967275450050058,\n",
       " 'aaaaaaaaamazing': 11.967275450050058,\n",
       " 'aaaaamazing': 11.967275450050058,\n",
       " 'aaaamazing': 11.967275450050058,\n",
       " 'aaaargh': 11.967275450050058,\n",
       " 'aalto': 11.967275450050058,\n",
       " 'aamiainen': 11.967275450050058,\n",
       " 'aanrader': 11.561810341941893,\n",
       " 'aardige': 11.967275450050058,\n",
       " 'ab': 10.357837537615957,\n",
       " 'abandon': 11.561810341941893,\n",
       " 'abandoned': 11.967275450050058,\n",
       " 'abaolut': 11.967275450050058,\n",
       " 'abb': 11.967275450050058,\n",
       " 'abba': 11.967275450050058,\n",
       " 'abbas': 11.967275450050058,\n",
       " 'abbeville': 11.967275450050058,\n",
       " 'abbey': 11.561810341941893,\n",
       " 'abbeyhil': 11.967275450050058,\n",
       " 'abbeys': 11.967275450050058,\n",
       " 'abbia': 11.967275450050058,\n",
       " 'abbr': 11.967275450050058,\n",
       " 'abd': 11.274128269490113,\n",
       " 'abendessen': 11.967275450050058,\n",
       " 'aber': 11.274128269490113,\n",
       " 'abhilash': 11.967275450050058,\n",
       " 'abholen': 11.967275450050058,\n",
       " 'ability': 11.967275450050058,\n",
       " 'abissmal': 11.967275450050058,\n",
       " 'abit': 11.274128269490113,\n",
       " 'able': 10.095473273148466,\n",
       " 'abominable': 11.967275450050058,\n",
       " 'abomination': 11.561810341941893,\n",
       " 'abou': 11.561810341941893,\n",
       " 'abound': 11.561810341941893,\n",
       " 'abov': 11.967275450050058,\n",
       " 'abrasador': 11.967275450050058,\n",
       " 'abrasive': 11.967275450050058,\n",
       " 'abricot': 11.967275450050058,\n",
       " 'abroa': 11.967275450050058,\n",
       " 'abroad': 10.463198053273784,\n",
       " 'abrupt': 11.050984718175902,\n",
       " 'abruzzesi': 11.967275450050058,\n",
       " 'abruzzo': 11.967275450050058,\n",
       " 'abs': 11.967275450050058,\n",
       " 'absence': 11.967275450050058,\n",
       " 'absent': 11.967275450050058,\n",
       " 'absinth': 11.967275450050058,\n",
       " 'absinthe': 11.050984718175902,\n",
       " 'abso': 11.967275450050058,\n",
       " 'absol': 11.967275450050058,\n",
       " 'absoloutley': 11.967275450050058,\n",
       " 'absolu': 11.967275450050058,\n",
       " 'absolut': 11.967275450050058,\n",
       " 'absolutamente': 11.967275450050058,\n",
       " 'absolute': 8.171786260877862,\n",
       " 'absolutel': 11.561810341941893,\n",
       " 'absolutelly': 11.561810341941893,\n",
       " 'absolutely': 6.696843286991557,\n",
       " 'absolutey': 11.967275450050058,\n",
       " 'absolutley': 11.561810341941893,\n",
       " 'absolutly': 10.463198053273784,\n",
       " 'absoultely': 11.967275450050058,\n",
       " 'absoultley': 11.967275450050058,\n",
       " 'absurd': 11.274128269490113,\n",
       " 'absurdly': 11.967275450050058,\n",
       " 'abu': 11.967275450050058,\n",
       " 'abundance': 11.561810341941893,\n",
       " 'abundant': 10.175515980822002,\n",
       " 'abuse': 11.967275450050058,\n",
       " 'abusive': 11.967275450050058,\n",
       " 'abusivos': 11.967275450050058,\n",
       " 'abusoltely': 11.967275450050058,\n",
       " 'abysmal': 10.095473273148466,\n",
       " 'ac': 10.580981088930168,\n",
       " 'academy': 11.561810341941893,\n",
       " 'acai': 10.357837537615957,\n",
       " 'acasa': 11.967275450050058,\n",
       " 'acc': 11.274128269490113,\n",
       " 'accceptable': 11.967275450050058,\n",
       " 'acccident': 11.967275450050058,\n",
       " 'accent': 11.274128269490113,\n",
       " 'accept': 10.357837537615957,\n",
       " 'acceptab': 11.967275450050058,\n",
       " 'acceptable': 8.599979620063584,\n",
       " 'acceptance': 11.967275450050058,\n",
       " 'accepted': 10.580981088930168,\n",
       " 'accepting': 11.967275450050058,\n",
       " 'accepts': 11.561810341941893,\n",
       " 'accesory': 11.967275450050058,\n",
       " 'access': 10.175515980822002,\n",
       " 'accessibility': 11.561810341941893,\n",
       " 'accessibl': 11.967275450050058,\n",
       " 'accessible': 10.262527357811633,\n",
       " 'acceuil': 11.561810341941893,\n",
       " 'acci': 11.967275450050058,\n",
       " 'accid': 11.967275450050058,\n",
       " 'accident': 9.40232609258852,\n",
       " 'accidental': 10.021365300994745,\n",
       " 'accidentally': 11.274128269490113,\n",
       " 'accidently': 11.561810341941893,\n",
       " 'acclaimed': 11.561810341941893,\n",
       " 'acco': 11.967275450050058,\n",
       " 'accoglienza': 11.967275450050058,\n",
       " 'accolades': 11.967275450050058,\n",
       " 'accomadating': 11.274128269490113,\n",
       " 'accomidation': 11.967275450050058,\n",
       " 'accommoda': 11.967275450050058,\n",
       " 'accommodate': 11.967275450050058,\n",
       " 'accommodated': 11.050984718175902,\n",
       " 'accommodati': 11.967275450050058,\n",
       " 'accommodatin': 11.967275450050058,\n",
       " 'accommodating': 8.876232996691742,\n",
       " 'accommodation': 11.050984718175902,\n",
       " 'accomodated': 11.967275450050058,\n",
       " 'accomodating': 10.357837537615957,\n",
       " 'accomodation': 11.561810341941893,\n",
       " 'accompa': 11.967275450050058,\n",
       " 'accompan': 11.967275450050058,\n",
       " 'accompanied': 11.050984718175902,\n",
       " 'accompaniment': 11.561810341941893,\n",
       " 'accompany': 11.967275450050058,\n",
       " 'accompanying': 11.967275450050058,\n",
       " 'accomplished': 11.561810341941893,\n",
       " 'according': 11.050984718175902,\n",
       " 'accordingly': 11.967275450050058,\n",
       " 'account': 11.967275450050058,\n",
       " 'accoustics': 11.561810341941893,\n",
       " 'accuracy': 11.967275450050058,\n",
       " 'accurate': 11.050984718175902,\n",
       " 'accuse': 11.967275450050058,\n",
       " 'ace': 9.827209286553787,\n",
       " 'acerage': 11.967275450050058,\n",
       " 'aces': 11.967275450050058,\n",
       " 'acetunes': 11.967275450050058,\n",
       " 'achieve': 11.561810341941893,\n",
       " 'achiever': 11.967275450050058,\n",
       " 'achingl': 11.967275450050058,\n",
       " 'achingly': 11.967275450050058,\n",
       " 'achraf': 11.967275450050058,\n",
       " 'acid': 11.967275450050058,\n",
       " 'acidic': 11.967275450050058,\n",
       " 'acogedor': 11.967275450050058,\n",
       " 'acolhedor': 11.967275450050058,\n",
       " 'acoustics': 11.561810341941893,\n",
       " 'acq': 11.967275450050058,\n",
       " 'acqueducts': 11.967275450050058,\n",
       " 'acquincum': 11.967275450050058,\n",
       " 'acquire': 11.967275450050058,\n",
       " 'acquitance': 11.967275450050058,\n",
       " 'acr': 11.967275450050058,\n",
       " 'acro': 11.967275450050058,\n",
       " 'acrop': 11.967275450050058,\n",
       " 'acroplis': 11.967275450050058,\n",
       " 'acropole': 11.967275450050058,\n",
       " 'acropoli': 11.967275450050058,\n",
       " 'acropolice': 11.967275450050058,\n",
       " 'acropolis': 9.441546805741803,\n",
       " 'acros': 11.561810341941893,\n",
       " 'across': 8.690130717057881,\n",
       " 'acsess': 11.967275450050058,\n",
       " 'act': 10.71451248155469,\n",
       " 'actio': 11.967275450050058,\n",
       " 'action': 11.050984718175902,\n",
       " 'activ': 11.967275450050058,\n",
       " 'active': 11.050984718175902,\n",
       " 'activities': 11.967275450050058,\n",
       " 'activity': 10.580981088930168,\n",
       " 'acton': 11.274128269490113,\n",
       " 'actor': 11.967275450050058,\n",
       " 'actua': 11.561810341941893,\n",
       " 'actual': 10.357837537615957,\n",
       " 'actuall': 11.967275450050058,\n",
       " 'actually': 8.946850563905695,\n",
       " 'ad': 10.357837537615957,\n",
       " 'adal': 11.967275450050058,\n",
       " 'adam': 11.050984718175902,\n",
       " 'adana': 11.967275450050058,\n",
       " 'adap': 11.967275450050058,\n",
       " 'adaptable': 11.967275450050058,\n",
       " 'adaption': 11.967275450050058,\n",
       " 'add': 10.021365300994745,\n",
       " 'addams': 11.967275450050058,\n",
       " 'adde': 11.967275450050058,\n",
       " 'added': 10.095473273148466,\n",
       " 'addict': 11.967275450050058,\n",
       " 'addicted': 10.868663161381948,\n",
       " 'addiction': 10.868663161381948,\n",
       " 'addictive': 10.463198053273784,\n",
       " 'addictively': 11.561810341941893,\n",
       " 'adding': 11.967275450050058,\n",
       " 'addition': 8.635070939874854,\n",
       " 'additional': 11.967275450050058,\n",
       " 'additions': 11.561810341941893,\n",
       " 'address': 8.922753012326634,\n",
       " 'addresse': 11.967275450050058,\n",
       " 'adds': 11.561810341941893,\n",
       " 'adept': 11.967275450050058,\n",
       " 'adequate': 8.922753012326634,\n",
       " 'adevnture': 11.967275450050058,\n",
       " 'adi': 11.967275450050058,\n",
       " 'adina': 11.967275450050058,\n",
       " 'adjacent': 11.561810341941893,\n",
       " 'adjunct': 11.967275450050058,\n",
       " 'adjusted': 11.967275450050058,\n",
       " 'administration': 11.967275450050058,\n",
       " 'admirable': 11.967275450050058,\n",
       " 'admiral': 11.967275450050058,\n",
       " 'admire': 11.967275450050058,\n",
       " 'admit': 11.967275450050058,\n",
       " 'admosphere': 11.967275450050058,\n",
       " 'adn': 11.274128269490113,\n",
       " 'adopted': 11.967275450050058,\n",
       " 'ador': 11.561810341941893,\n",
       " 'adorable': 9.226435426124857,\n",
       " 'adore': 10.71451248155469,\n",
       " 'adress': 10.71451248155469,\n",
       " 'adresse': 10.71451248155469,\n",
       " 'adrian': 11.967275450050058,\n",
       " 'adriane': 11.967275450050058,\n",
       " 'adrianos': 11.967275450050058,\n",
       " 'adriatic': 11.967275450050058,\n",
       " 'adriatico': 11.561810341941893,\n",
       " 'adrionos': 11.967275450050058,\n",
       " 'ads': 11.967275450050058,\n",
       " 'adult': 11.561810341941893,\n",
       " 'adults': 10.262527357811633,\n",
       " 'adv': 11.274128269490113,\n",
       " 'advade': 11.967275450050058,\n",
       " 'advance': 10.021365300994745,\n",
       " 'advantage': 10.71451248155469,\n",
       " 'advent': 11.967275450050058,\n",
       " 'adventure': 9.715983651443564,\n",
       " 'adventures': 11.274128269490113,\n",
       " 'adventurous': 10.71451248155469,\n",
       " 'adventus': 11.967275450050058,\n",
       " 'advert': 11.967275450050058,\n",
       " 'advertised': 10.463198053273784,\n",
       " 'advertisement': 11.561810341941893,\n",
       " 'advertises': 11.967275450050058,\n",
       " 'advertising': 10.175515980822002,\n",
       " 'adverts': 11.967275450050058,\n",
       " 'advice': 10.021365300994745,\n",
       " 'advisable': 11.967275450050058,\n",
       " 'advise': 10.71451248155469,\n",
       " 'advised': 11.561810341941893,\n",
       " 'advisor': 10.095473273148466,\n",
       " 'advisory': 11.967275450050058,\n",
       " 'aelplimilch': 11.967275450050058,\n",
       " 'aervice': 11.967275450050058,\n",
       " 'aesthetic': 11.561810341941893,\n",
       " 'aesthetics': 11.967275450050058,\n",
       " 'af': 10.580981088930168,\n",
       " 'aff': 11.967275450050058,\n",
       " 'affa': 11.967275450050058,\n",
       " 'affable': 11.967275450050058,\n",
       " 'affair': 11.050984718175902,\n",
       " 'affect': 11.967275450050058,\n",
       " 'afficionados': 11.967275450050058,\n",
       " 'affirdable': 11.967275450050058,\n",
       " 'affluenza': 11.967275450050058,\n",
       " 'affo': 11.050984718175902,\n",
       " 'affonso': 11.967275450050058,\n",
       " 'afforable': 11.561810341941893,\n",
       " 'afford': 10.868663161381948,\n",
       " 'afforda': 11.274128269490113,\n",
       " 'affordab': 11.274128269490113,\n",
       " 'affordability': 11.967275450050058,\n",
       " 'affordabl': 10.868663161381948,\n",
       " 'affordable': 6.566852860564867,\n",
       " 'affordabms': 11.967275450050058,\n",
       " 'affordale': 11.967275450050058,\n",
       " 'affortable': 11.561810341941893,\n",
       " 'afghan': 9.887833908370222,\n",
       " 'afghani': 11.967275450050058,\n",
       " 'afhani': 11.967275450050058,\n",
       " 'aficionado': 11.561810341941893,\n",
       " 'aficionados': 11.967275450050058,\n",
       " 'afl': 11.967275450050058,\n",
       " 'afloat': 11.561810341941893,\n",
       " 'afoordable': 11.967275450050058,\n",
       " 'afordable': 11.274128269490113,\n",
       " 'afraid': 11.050984718175902,\n",
       " 'afrcan': 11.967275450050058,\n",
       " 'afri': 11.967275450050058,\n",
       " 'afriad': 11.967275450050058,\n",
       " 'africa': 10.175515980822002,\n",
       " 'african': 8.51728790421847,\n",
       " 'afrin': 11.967275450050058,\n",
       " 'afrique': 11.967275450050058,\n",
       " 'afroklectic': 11.967275450050058,\n",
       " 'aft': 11.050984718175902,\n",
       " 'afte': 10.262527357811633,\n",
       " 'aften': 11.967275450050058,\n",
       " 'afterall': 11.967275450050058,\n",
       " 'aftermarathon': 11.967275450050058,\n",
       " 'aftermath': 11.967275450050058,\n",
       " 'aftern': 11.967275450050058,\n",
       " 'afterno': 11.561810341941893,\n",
       " 'afternoo': 11.561810341941893,\n",
       " 'afternoon': 6.828540153326487,\n",
       " 'afternoons': 11.274128269490113,\n",
       " 'afterparty': 11.967275450050058,\n",
       " 'aftertaste': 11.967275450050058,\n",
       " 'afterwards': 11.561810341941893,\n",
       " 'afterwok': 11.967275450050058,\n",
       " 'afterwork': 10.262527357811633,\n",
       " 'afterworks': 11.561810341941893,\n",
       " 'afyer': 11.967275450050058,\n",
       " 'ag': 11.561810341941893,\n",
       " 'aga': 10.580981088930168,\n",
       " 'agai': 11.967275450050058,\n",
       " 'agape': 11.561810341941893,\n",
       " 'agarrarse': 11.967275450050058,\n",
       " 'age': 10.580981088930168,\n",
       " 'aged': 11.561810341941893,\n",
       " 'ageing': 11.967275450050058,\n",
       " 'agency': 11.561810341941893,\n",
       " 'ages': 9.715983651443564,\n",
       " 'aggresive': 11.967275450050058,\n",
       " 'aggressive': 9.569380177251688,\n",
       " 'agile': 11.967275450050058,\n",
       " 'aging': 11.967275450050058,\n",
       " 'agneau': 11.967275450050058,\n",
       " 'ago': 9.524928414680854,\n",
       " 'agood': 11.274128269490113,\n",
       " 'agora': 11.274128269490113,\n",
       " 'agosto': 11.967275450050058,\n",
       " 'agr': 11.050984718175902,\n",
       " 'agrad': 11.967275450050058,\n",
       " 'agradable': 11.561810341941893,\n",
       " 'agradavel': 11.967275450050058,\n",
       " 'agreable': 11.561810341941893,\n",
       " 'agree': 10.71451248155469,\n",
       " 'agreeable': 10.868663161381948,\n",
       " 'agreeably': 11.967275450050058,\n",
       " 'agreed': 11.561810341941893,\n",
       " 'agressive': 10.868663161381948,\n",
       " 'agro': 11.967275450050058,\n",
       " 'ah': 11.050984718175902,\n",
       " 'ahead': 10.580981088930168,\n",
       " 'ahh': 11.967275450050058,\n",
       " 'ahhh': 11.561810341941893,\n",
       " 'ahhhhh': 11.967275450050058,\n",
       " 'ahlens': 11.967275450050058,\n",
       " 'ahmad': 11.967275450050058,\n",
       " 'ahmmmazing': 11.967275450050058,\n",
       " 'ahol': 11.967275450050058,\n",
       " 'ahoy': 11.561810341941893,\n",
       " 'ai': 10.021365300994745,\n",
       " 'aida': 11.967275450050058,\n",
       " 'aim': 11.561810341941893,\n",
       " 'aimable': 11.561810341941893,\n",
       " 'aime': 11.967275450050058,\n",
       " 'aimed': 11.967275450050058,\n",
       " 'aimlessly': 11.967275450050058,\n",
       " 'aino': 11.967275450050058,\n",
       " 'aioli': 11.561810341941893,\n",
       " 'air': 8.971543176496066,\n",
       " 'airb': 11.967275450050058,\n",
       " 'airbnb': 11.561810341941893,\n",
       " 'aires': 11.274128269490113,\n",
       " 'airp': 11.967275450050058,\n",
       " 'airplan': 11.967275450050058,\n",
       " 'airplane': 11.967275450050058,\n",
       " 'airpo': 11.561810341941893,\n",
       " 'airpor': 11.967275450050058,\n",
       " 'airport': 8.397742753568687,\n",
       " 'airpot': 11.967275450050058,\n",
       " 'airy': 9.770050872713838,\n",
       " 'ais': 11.561810341941893,\n",
       " 'aisan': 11.967275450050058,\n",
       " 'aise': 11.561810341941893,\n",
       " 'aji': 11.967275450050058,\n",
       " 'ajiaco': 11.967275450050058,\n",
       " 'ak': 11.967275450050058,\n",
       " 'aka': 10.262527357811633,\n",
       " 'akash': 11.967275450050058,\n",
       " 'aker': 11.967275450050058,\n",
       " 'akerbrygge': 11.967275450050058,\n",
       " 'aki': 11.561810341941893,\n",
       " 'akk': 11.967275450050058,\n",
       " 'akward': 11.967275450050058,\n",
       " 'al': 8.671438584045728,\n",
       " 'ala': 11.274128269490113,\n",
       " 'alacarte': 11.967275450050058,\n",
       " 'aladdin': 11.967275450050058,\n",
       " 'alain': 11.967275450050058,\n",
       " 'alamada': 11.967275450050058,\n",
       " 'alan': 11.967275450050058,\n",
       " 'alas': 11.561810341941893,\n",
       " 'alaskan': 11.967275450050058,\n",
       " 'alb': 11.967275450050058,\n",
       " 'albani': 11.967275450050058,\n",
       " 'albanian': 11.967275450050058,\n",
       " 'albatross': 11.967275450050058,\n",
       " 'albeit': 10.71451248155469,\n",
       " 'alberone': 11.967275450050058,\n",
       " 'albert': 10.357837537615957,\n",
       " 'alberto': 11.050984718175902,\n",
       " 'albino': 11.967275450050058,\n",
       " 'albutashvili': 11.967275450050058,\n",
       " 'alcantara': 11.967275450050058,\n",
       " 'alce': 11.967275450050058,\n",
       " 'alcobendas': 11.967275450050058,\n",
       " 'alcoc': 11.967275450050058,\n",
       " 'alcocer': 11.967275450050058,\n",
       " 'alcohol': 9.569380177251688,\n",
       " 'alcoholic': 10.580981088930168,\n",
       " 'alcoholics': 11.561810341941893,\n",
       " 'aldgate': 11.967275450050058,\n",
       " 'aldi': 11.967275450050058,\n",
       " 'aldo': 11.967275450050058,\n",
       " 'aldwich': 11.967275450050058,\n",
       " 'ale': 9.364585764605675,\n",
       " 'aleays': 11.967275450050058,\n",
       " 'alecia': 11.967275450050058,\n",
       " 'aleeady': 11.967275450050058,\n",
       " 'alejandro': 11.967275450050058,\n",
       " 'alentejana': 11.967275450050058,\n",
       " 'alentejo': 10.71451248155469,\n",
       " 'alert': 10.868663161381948,\n",
       " 'ales': 9.61590019288658,\n",
       " 'alessio': 11.561810341941893,\n",
       " 'alex': 10.580981088930168,\n",
       " 'alexand': 11.967275450050058,\n",
       " 'alexanderplat': 11.967275450050058,\n",
       " 'alexanderplatz': 11.561810341941893,\n",
       " 'alexanderplaz': 11.967275450050058,\n",
       " 'alexandra': 11.561810341941893,\n",
       " 'alexandro': 11.967275450050058,\n",
       " 'alfama': 9.952372429507793,\n",
       " 'alfie': 11.967275450050058,\n",
       " 'alfon': 11.967275450050058,\n",
       " 'alfor': 11.967275450050058,\n",
       " 'alfred': 11.967275450050058,\n",
       " 'alfredo': 11.967275450050058,\n",
       " 'alfresco': 11.561810341941893,\n",
       " 'algerian': 10.463198053273784,\n",
       " 'algo': 11.967275450050058,\n",
       " 'ali': 11.274128269490113,\n",
       " 'alibaba': 11.967275450050058,\n",
       " 'alice': 10.868663161381948,\n",
       " 'aligot': 11.967275450050058,\n",
       " 'alike': 11.561810341941893,\n",
       " 'alister': 11.967275450050058,\n",
       " 'alive': 11.561810341941893,\n",
       " 'alkohoo': 11.967275450050058,\n",
       " 'alla': 9.952372429507793,\n",
       " 'allday': 11.967275450050058,\n",
       " 'alle': 11.274128269490113,\n",
       " 'allee': 11.561810341941893,\n",
       " 'allegade': 11.967275450050058,\n",
       " 'allegedly': 11.967275450050058,\n",
       " 'allem': 11.967275450050058,\n",
       " 'allen': 11.967275450050058,\n",
       " 'allergen': 11.967275450050058,\n",
       " 'allergens': 11.561810341941893,\n",
       " 'allergi': 11.967275450050058,\n",
       " 'allergic': 11.967275450050058,\n",
       " 'allergies': 10.868663161381948,\n",
       " 'allergy': 10.580981088930168,\n",
       " 'alles': 11.561810341941893,\n",
       " 'alley': 10.463198053273784,\n",
       " 'alleyway': 11.967275450050058,\n",
       " 'allonge': 11.967275450050058,\n",
       " 'allora': 11.967275450050058,\n",
       " 'allot': 11.967275450050058,\n",
       " 'allotment': 11.967275450050058,\n",
       " 'allow': 11.561810341941893,\n",
       " 'allowed': 9.827209286553787,\n",
       " 'allows': 11.967275450050058,\n",
       " 'allright': 10.868663161381948,\n",
       " 'allrounder': 11.967275450050058,\n",
       " 'allways': 10.262527357811633,\n",
       " 'ally': 11.274128269490113,\n",
       " 'alma': 11.967275450050058,\n",
       " 'almagro': 11.967275450050058,\n",
       " 'almaza': 11.967275450050058,\n",
       " 'almond': 10.868663161381948,\n",
       " 'almonds': 11.967275450050058,\n",
       " 'almost': 7.697578000350096,\n",
       " 'aloe': 11.967275450050058,\n",
       " 'aloft': 11.967275450050058,\n",
       " 'alon': 11.967275450050058,\n",
       " 'alone': 9.952372429507793,\n",
       " 'along': 9.3282181204348,\n",
       " 'aloof': 11.967275450050058,\n",
       " 'alot': 10.71451248155469,\n",
       " 'alpacanosher': 11.967275450050058,\n",
       " 'alpha': 11.967275450050058,\n",
       " 'alppino': 11.967275450050058,\n",
       " 'alps': 11.050984718175902,\n",
       " 'already': 9.887833908370222,\n",
       " 'alright': 8.709178912028577,\n",
       " 'alroght': 11.967275450050058,\n",
       " 'alrounder': 11.561810341941893,\n",
       " 'als': 11.561810341941893,\n",
       " 'alsabah': 11.967275450050058,\n",
       " 'alsace': 11.274128269490113,\n",
       " 'alsacian': 11.967275450050058,\n",
       " 'alsatian': 11.561810341941893,\n",
       " 'also': 8.183085816131797,\n",
       " 'alste': 11.967275450050058,\n",
       " 'alstef': 11.967275450050058,\n",
       " 'alster': 11.561810341941893,\n",
       " 'alsur': 11.967275450050058,\n",
       " 'alt': 10.868663161381948,\n",
       " 'altar': 11.967275450050058,\n",
       " 'alte': 11.561810341941893,\n",
       " 'alteration': 11.967275450050058,\n",
       " 'altern': 11.561810341941893,\n",
       " 'alternati': 11.967275450050058,\n",
       " 'alternativ': 11.967275450050058,\n",
       " 'alternative': 7.792888180154421,\n",
       " 'alternatively': 11.967275450050058,\n",
       " 'alternatives': 10.868663161381948,\n",
       " 'alternativo': 11.967275450050058,\n",
       " 'alterntive': 11.967275450050058,\n",
       " 'alth': 11.967275450050058,\n",
       " 'althe': 11.967275450050058,\n",
       " 'altho': 11.967275450050058,\n",
       " 'although': 9.134062105993841,\n",
       " 'althouh': 11.967275450050058,\n",
       " 'altitude': 11.967275450050058,\n",
       " 'alto': 10.262527357811633,\n",
       " 'altogether': 11.274128269490113,\n",
       " 'altomoda': 11.967275450050058,\n",
       " 'altona': 11.561810341941893,\n",
       " 'altra': 11.967275450050058,\n",
       " 'altrove': 11.967275450050058,\n",
       " 'altstetten': 11.967275450050058,\n",
       " 'alumni': 11.561810341941893,\n",
       " 'alvalade': 11.967275450050058,\n",
       " 'alvar': 11.967275450050058,\n",
       " 'alvarado': 11.967275450050058,\n",
       " 'alw': 11.967275450050058,\n",
       " 'alwa': 11.967275450050058,\n",
       " 'alwasy': 11.561810341941893,\n",
       " 'alway': 11.561810341941893,\n",
       " 'always': 6.097978536916283,\n",
       " 'alwaysafunatmosphere': 11.967275450050058,\n",
       " 'aly': 11.967275450050058,\n",
       " 'ama': 10.71451248155469,\n",
       " 'amaaaaaaaaa': 11.967275450050058,\n",
       " 'amaaaaaaaaaazing': 11.967275450050058,\n",
       " 'amaaaaaaazing': 11.967275450050058,\n",
       " 'amaaazing': 11.967275450050058,\n",
       " 'amable': 11.967275450050058,\n",
       " 'amables': 11.967275450050058,\n",
       " 'amade': 11.050984718175902,\n",
       " 'amager': 11.967275450050058,\n",
       " 'amagical': 11.967275450050058,\n",
       " 'amaing': 11.967275450050058,\n",
       " 'amainstream': 11.967275450050058,\n",
       " 'amaising': 11.967275450050058,\n",
       " 'amaizing': 10.580981088930168,\n",
       " 'amake': 11.561810341941893,\n",
       " 'amal': 11.967275450050058,\n",
       " 'amalie': 11.561810341941893,\n",
       " 'amalienborgmuseet': 11.967275450050058,\n",
       " 'amall': 11.967275450050058,\n",
       " 'amamzing': 11.967275450050058,\n",
       " 'amanaged': 11.967275450050058,\n",
       " 'amanager': 11.967275450050058,\n",
       " 'amany': 11.561810341941893,\n",
       " 'amanzing': 11.561810341941893,\n",
       " 'amar': 11.967275450050058,\n",
       " 'amaretti': 11.967275450050058,\n",
       " 'amaretto': 11.967275450050058,\n",
       " 'amarie': 11.967275450050058,\n",
       " 'amario': 11.967275450050058,\n",
       " 'amarvellous': 11.561810341941893,\n",
       " 'amarvelous': 11.967275450050058,\n",
       " 'amas': 11.967275450050058,\n",
       " 'amasing': 11.967275450050058,\n",
       " 'amass': 11.967275450050058,\n",
       " 'amassive': 11.967275450050058,\n",
       " 'amasterpiece': 11.967275450050058,\n",
       " 'amatch': 11.967275450050058,\n",
       " 'amateur': 10.868663161381948,\n",
       " 'amateurs': 11.561810341941893,\n",
       " 'amati': 11.967275450050058,\n",
       " 'amatriciana': 11.274128269490113,\n",
       " 'amatures': 11.967275450050058,\n",
       " 'amatya': 11.967275450050058,\n",
       " 'amaybe': 11.050984718175902,\n",
       " 'amayya': 11.967275450050058,\n",
       " 'amaz': 10.868663161381948,\n",
       " 'amaze': 10.868663161381948,\n",
       " 'amazeballs': 11.274128269490113,\n",
       " 'amazed': 10.71451248155469,\n",
       " 'amazi': 10.868663161381948,\n",
       " 'amaziing': 11.967275450050058,\n",
       " 'amazin': 10.71451248155469,\n",
       " 'amazinf': 11.561810341941893,\n",
       " 'amazing': 4.381994371410933,\n",
       " 'amazinggg': 11.561810341941893,\n",
       " 'amazinggggg': 11.967275450050058,\n",
       " 'amazingly': 8.853760140839682,\n",
       " 'amazingness': 11.561810341941893,\n",
       " 'amazinh': 11.967275450050058,\n",
       " 'amazit': 11.967275450050058,\n",
       " 'amazlingly': 11.967275450050058,\n",
       " 'amazng': 11.967275450050058,\n",
       " 'amazon': 11.967275450050058,\n",
       " 'amazzzzzing': 11.967275450050058,\n",
       " 'amb': 10.868663161381948,\n",
       " 'amba': 11.967275450050058,\n",
       " 'ambala': 11.967275450050058,\n",
       " 'ambassade': 11.967275450050058,\n",
       " 'ambassador': 11.967275450050058,\n",
       " 'ambi': 10.357837537615957,\n",
       " 'ambia': 11.050984718175902,\n",
       " 'ambian': 11.050984718175902,\n",
       " 'ambianc': 11.561810341941893,\n",
       " 'ambiance': 6.901520856732723,\n",
       " 'ambie': 10.868663161381948,\n",
       " 'ambieance': 11.967275450050058,\n",
       " 'ambien': 11.050984718175902,\n",
       " 'ambienc': 11.561810341941893,\n",
       " 'ambience': 6.813983855552279,\n",
       " 'ambient': 8.810275028899945,\n",
       " 'ambiental': 11.967275450050058,\n",
       " 'ambiente': 9.827209286553787,\n",
       " 'ambiguous': 11.967275450050058,\n",
       " 'ambit': 11.967275450050058,\n",
       " 'ambition': 11.561810341941893,\n",
       " 'ambitions': 11.561810341941893,\n",
       " 'ambitious': 10.357837537615957,\n",
       " 'ambrosia': 11.967275450050058,\n",
       " 'amd': 11.561810341941893,\n",
       " 'ame': 11.967275450050058,\n",
       " 'ameal': 11.561810341941893,\n",
       " 'ameat': 10.580981088930168,\n",
       " 'amediocre': 10.021365300994745,\n",
       " 'amediterranean': 11.967275450050058,\n",
       " 'amedium': 11.050984718175902,\n",
       " 'ameehheee': 11.967275450050058,\n",
       " 'ameets': 11.967275450050058,\n",
       " 'ameh': 11.274128269490113,\n",
       " 'amelie': 11.967275450050058,\n",
       " 'amemorable': 11.967275450050058,\n",
       " 'amemory': 11.967275450050058,\n",
       " 'amenu': 11.274128269490113,\n",
       " 'amer': 11.274128269490113,\n",
       " 'ameri': 11.967275450050058,\n",
       " 'americ': 11.561810341941893,\n",
       " 'america': 9.887833908370222,\n",
       " 'americaine': 11.967275450050058,\n",
       " 'americal': 11.967275450050058,\n",
       " 'american': 7.591518428389771,\n",
       " 'americana': 10.868663161381948,\n",
       " 'americano': 11.274128269490113,\n",
       " 'americans': 10.580981088930168,\n",
       " 'americon': 11.967275450050058,\n",
       " 'amesmerizing': 11.967275450050058,\n",
       " 'ametal': 11.967275450050058,\n",
       " 'ameting': 11.967275450050058,\n",
       " 'ametropolitano': 11.967275450050058,\n",
       " 'amexican': 11.561810341941893,\n",
       " 'amezopoleio': 11.967275450050058,\n",
       " 'amhmm': 11.967275450050058,\n",
       " 'ami': 11.967275450050058,\n",
       " 'amiable': 11.274128269490113,\n",
       " 'amibance': 11.967275450050058,\n",
       " 'amibience': 11.967275450050058,\n",
       " 'amicable': 11.561810341941893,\n",
       " 'amice': 11.967275450050058,\n",
       " 'amico': 11.967275450050058,\n",
       " 'amicrowaved': 11.967275450050058,\n",
       " 'amid': 10.71451248155469,\n",
       " 'amidst': 10.71451248155469,\n",
       " 'amighty': 11.967275450050058,\n",
       " 'amigo': 11.967275450050058,\n",
       " 'amigos': 11.274128269490113,\n",
       " 'amilanese': 11.967275450050058,\n",
       " 'amini': 11.967275450050058,\n",
       " 'amis': 11.967275450050058,\n",
       " 'amiss': 11.561810341941893,\n",
       " 'amixed': 10.580981088930168,\n",
       " 'amixology': 11.967275450050058,\n",
       " 'ammmm': 11.967275450050058,\n",
       " 'ammmmazing': 11.967275450050058,\n",
       " 'ammmmazzzzingggg': 11.967275450050058,\n",
       " 'ammmmm': 11.967275450050058,\n",
       " 'ammonia': 11.967275450050058,\n",
       " 'amoderately': 11.561810341941893,\n",
       " 'amodern': 11.274128269490113,\n",
       " 'amoldy': 11.967275450050058,\n",
       " 'amoment': 11.967275450050058,\n",
       " 'amonday': 11.967275450050058,\n",
       " 'among': 9.049504717965778,\n",
       " 'amongst': 9.827209286553787,\n",
       " 'amonopoly': 11.967275450050058,\n",
       " 'amor': 11.561810341941893,\n",
       " 'amore': 10.71451248155469,\n",
       " 'amoreiras': 11.967275450050058,\n",
       " 'amorino': 11.967275450050058,\n",
       " 'amorning': 11.967275450050058,\n",
       " 'amoroccan': 11.967275450050058,\n",
       " 'amosphere': 11.967275450050058,\n",
       " 'amost': 11.274128269490113,\n",
       " 'amount': 10.021365300994745,\n",
       " 'amounts': 11.967275450050058,\n",
       " 'amour': 11.274128269490113,\n",
       " 'amouthwatering': 11.967275450050058,\n",
       " 'amouthwateringly': 11.967275450050058,\n",
       " 'amove': 11.967275450050058,\n",
       " 'ample': 10.463198053273784,\n",
       " 'amr': 11.274128269490113,\n",
       " 'ams': 11.274128269490113,\n",
       " 'amsredam': 11.967275450050058,\n",
       " 'amst': 11.274128269490113,\n",
       " 'amste': 11.967275450050058,\n",
       " 'amstel': 11.274128269490113,\n",
       " 'amster': 11.274128269490113,\n",
       " 'amsterd': 10.868663161381948,\n",
       " 'amsterda': 10.868663161381948,\n",
       " 'amsterdam': 7.235472613128601,\n",
       " 'amsterdamer': 11.967275450050058,\n",
       " 'amsterdams': 11.561810341941893,\n",
       " 'amtosphere': 11.967275450050058,\n",
       " 'amuch': 11.561810341941893,\n",
       " 'amulti': 11.967275450050058,\n",
       " 'amuseme': 11.967275450050058,\n",
       " 'amusement': 11.967275450050058,\n",
       " 'amusementpark': 11.967275450050058,\n",
       " 'amusical': 11.967275450050058,\n",
       " 'amusing': 11.274128269490113,\n",
       " 'amust': 9.952372429507793,\n",
       " 'amy': 9.134062105993841,\n",
       " 'amybe': 11.967275450050058,\n",
       " 'amzing': 10.71451248155469,\n",
       " 'anabove': 11.967275450050058,\n",
       " 'anaemic': 11.967275450050058,\n",
       " 'analysis': 11.967275450050058,\n",
       " 'anastasia': 11.967275450050058,\n",
       " 'anata': 11.967275450050058,\n",
       " 'anatolia': 11.967275450050058,\n",
       " 'anatolian': 11.967275450050058,\n",
       " 'anazing': 11.967275450050058,\n",
       " 'anc': 11.561810341941893,\n",
       " 'ancent': 11.967275450050058,\n",
       " 'ancestor': 11.967275450050058,\n",
       " 'ancha': 11.967275450050058,\n",
       " 'anchored': 11.967275450050058,\n",
       " 'anchovies': 11.561810341941893,\n",
       " 'ancient': 10.71451248155469,\n",
       " 'andaluc': 11.967275450050058,\n",
       " 'andalucia': 10.580981088930168,\n",
       " 'andalusia': 11.967275450050058,\n",
       " 'andalusian': 10.357837537615957,\n",
       " 'andalussian': 11.967275450050058,\n",
       " 'andaluza': 11.967275450050058,\n",
       " 'anddelicious': 11.967275450050058,\n",
       " 'andel': 11.274128269490113,\n",
       " 'anderlecht': 11.274128269490113,\n",
       " 'anders': 11.561810341941893,\n",
       " 'anderson': 11.967275450050058,\n",
       " 'andgreat': 11.967275450050058,\n",
       " 'andr': 11.967275450050058,\n",
       " 'andrassy': 11.561810341941893,\n",
       " 'andrei': 11.967275450050058,\n",
       " 'andreu': 11.561810341941893,\n",
       " 'andrews': 11.967275450050058,\n",
       " 'androuet': 11.967275450050058,\n",
       " 'anech': 11.967275450050058,\n",
       " 'anemic': 11.967275450050058,\n",
       " 'anexcellent': 11.967275450050058,\n",
       " 'anf': 11.274128269490113,\n",
       " 'ang': 11.967275450050058,\n",
       " 'angela': 11.050984718175902,\n",
       " 'angelic': 11.967275450050058,\n",
       " 'angelo': 11.967275450050058,\n",
       " 'angie': 11.561810341941893,\n",
       " 'angle': 11.967275450050058,\n",
       " 'angleterre': 11.561810341941893,\n",
       " 'anglicised': 11.967275450050058,\n",
       " 'anglo': 11.967275450050058,\n",
       " 'angry': 11.274128269490113,\n",
       " 'angst': 11.967275450050058,\n",
       " 'angus': 10.463198053273784,\n",
       " 'anh': 11.967275450050058,\n",
       " 'anika': 11.967275450050058,\n",
       " 'animado': 11.967275450050058,\n",
       " 'animals': 11.050984718175902,\n",
       " 'animati': 11.967275450050058,\n",
       " 'animation': 11.561810341941893,\n",
       " 'animosity': 11.967275450050058,\n",
       " 'anitpasti': 11.967275450050058,\n",
       " 'aniversario': 11.967275450050058,\n",
       " 'anju': 11.967275450050058,\n",
       " 'anmd': 11.967275450050058,\n",
       " 'ann': 11.561810341941893,\n",
       " 'anna': 11.274128269490113,\n",
       " 'anne': 10.868663161381948,\n",
       " 'annelaine': 11.967275450050058,\n",
       " 'annex': 11.967275450050058,\n",
       " 'anniversaire': 11.967275450050058,\n",
       " 'anniversar': 11.967275450050058,\n",
       " 'anniversary': 8.789221619702111,\n",
       " 'annmgf': 11.967275450050058,\n",
       " 'anno': 11.967275450050058,\n",
       " 'annotated': 11.967275450050058,\n",
       " 'annoyed': 11.274128269490113,\n",
       " 'annoying': 10.175515980822002,\n",
       " 'annoyingly': 11.967275450050058,\n",
       " 'annual': 10.463198053273784,\n",
       " 'anokha': 11.967275450050058,\n",
       " 'anonymus': 11.967275450050058,\n",
       " 'anorexic': 11.967275450050058,\n",
       " 'anoth': 11.967275450050058,\n",
       " 'another': 6.91421944006985,\n",
       " 'anothers': 11.967275450050058,\n",
       " 'anrufen': 11.967275450050058,\n",
       " 'ans': 10.175515980822002,\n",
       " 'ansari': 11.967275450050058,\n",
       " 'ansome': 11.967275450050058,\n",
       " 'answer': 10.71451248155469,\n",
       " 'answered': 11.967275450050058,\n",
       " 'answome': 11.967275450050058,\n",
       " 'ant': 11.967275450050058,\n",
       " 'ante': 11.967275450050058,\n",
       " 'antes': 11.561810341941893,\n",
       " 'anti': 11.050984718175902,\n",
       " 'antic': 11.967275450050058,\n",
       " 'antica': 11.561810341941893,\n",
       " 'anticafe': 11.967275450050058,\n",
       " 'anticipated': 11.274128269490113,\n",
       " 'anticipating': 11.967275450050058,\n",
       " 'antidote': 11.561810341941893,\n",
       " 'antipasta': 11.967275450050058,\n",
       " 'antipasteria': 11.967275450050058,\n",
       " 'antipasti': 9.887833908370222,\n",
       " 'antipasto': 11.561810341941893,\n",
       " 'antique': 11.561810341941893,\n",
       " 'antiques': 11.561810341941893,\n",
       " 'antisocial': 11.967275450050058,\n",
       " 'anto': 11.967275450050058,\n",
       " 'antoinette': 11.967275450050058,\n",
       " 'anton': 11.967275450050058,\n",
       " 'antoni': 11.561810341941893,\n",
       " 'antonin': 11.967275450050058,\n",
       " 'antpasti': 11.967275450050058,\n",
       " 'antricote': 11.967275450050058,\n",
       " 'ants': 11.967275450050058,\n",
       " 'anuncio': 11.967275450050058,\n",
       " 'anw': 11.967275450050058,\n",
       " 'anx': 11.967275450050058,\n",
       " 'anxiety': 11.967275450050058,\n",
       " 'anym': 11.561810341941893,\n",
       " 'anymo': 11.967275450050058,\n",
       " 'anymor': 11.967275450050058,\n",
       " 'anymore': 9.076903692153893,\n",
       " 'anyone': 9.482368800262057,\n",
       " 'anyt': 11.561810341941893,\n",
       " 'anythi': 11.967275450050058,\n",
       " 'anythin': 11.967275450050058,\n",
       " 'anything': 9.29312680062353,\n",
       " 'anytime': 10.021365300994745,\n",
       " 'anyway': 10.868663161381948,\n",
       " 'anywere': 11.967275450050058,\n",
       " 'anywhe': 11.561810341941893,\n",
       " 'anywhere': 9.259225248947848,\n",
       " 'ao': 11.967275450050058,\n",
       " 'aobaba': 11.967275450050058,\n",
       " 'ap': 11.274128269490113,\n",
       " 'apache': 11.967275450050058,\n",
       " 'apaixonante': 11.967275450050058,\n",
       " 'apalling': 11.561810341941893,\n",
       " 'apallingly': 11.967275450050058,\n",
       " 'apart': 10.262527357811633,\n",
       " 'aparthotel': 11.967275450050058,\n",
       " 'apartment': 10.175515980822002,\n",
       " 'apartmento': 11.967275450050058,\n",
       " 'apartments': 11.967275450050058,\n",
       " 'apathetic': 11.967275450050058,\n",
       " 'ape': 11.050984718175902,\n",
       " 'aper': 11.967275450050058,\n",
       " 'aperativo': 11.274128269490113,\n",
       " 'aperativos': 11.967275450050058,\n",
       " 'aperetif': 11.967275450050058,\n",
       " 'aperetivo': 11.561810341941893,\n",
       " 'apericena': 10.868663161381948,\n",
       " 'aperit': 11.967275450050058,\n",
       " 'aperitif': 9.664690357056012,\n",
       " 'aperitifs': 11.274128269490113,\n",
       " 'aperitiu': 11.967275450050058,\n",
       " 'aperitiv': 11.561810341941893,\n",
       " 'aperitives': 11.967275450050058,\n",
       " 'aperitivi': 11.967275450050058,\n",
       " 'aperitivo': 8.149563124093152,\n",
       " 'aperitv': 11.967275450050058,\n",
       " 'aperitvo': 11.967275450050058,\n",
       " 'apero': 9.952372429507793,\n",
       " 'aperol': 11.274128269490113,\n",
       " 'apertiv': 11.967275450050058,\n",
       " 'apertivo': 11.050984718175902,\n",
       " 'apetit': 11.274128269490113,\n",
       " 'apetizers': 11.561810341941893,\n",
       " 'apfelstrudel': 11.561810341941893,\n",
       " 'apfeltorte': 11.967275450050058,\n",
       " 'apiritivo': 11.967275450050058,\n",
       " 'aplenty': 11.967275450050058,\n",
       " 'apna': 11.967275450050058,\n",
       " 'apnosphere': 11.967275450050058,\n",
       " 'apo': 11.967275450050058,\n",
       " 'apocalypse': 11.967275450050058,\n",
       " 'apolgoy': 11.967275450050058,\n",
       " 'apollinaire': 11.967275450050058,\n",
       " 'apollo': 11.561810341941893,\n",
       " 'apolo': 11.967275450050058,\n",
       " 'apolog': 11.967275450050058,\n",
       " 'apology': 11.274128269490113,\n",
       " 'apot': 11.967275450050058,\n",
       " 'apothecary': 11.967275450050058,\n",
       " 'app': 10.580981088930168,\n",
       " 'appall': 11.967275450050058,\n",
       " 'appalli': 11.967275450050058,\n",
       " 'appallin': 11.967275450050058,\n",
       " 'appalling': 9.194686727810277,\n",
       " 'apparen': 11.967275450050058,\n",
       " 'apparent': 11.967275450050058,\n",
       " 'apparently': 11.274128269490113,\n",
       " 'appauling': 11.274128269490113,\n",
       " 'appeal': 10.71451248155469,\n",
       " 'appealing': 10.463198053273784,\n",
       " 'appeals': 11.967275450050058,\n",
       " 'appear': 11.967275450050058,\n",
       " 'appearance': 10.580981088930168,\n",
       " 'appearances': 11.274128269490113,\n",
       " 'appeared': 11.967275450050058,\n",
       " 'appearence': 11.967275450050058,\n",
       " 'appearing': 11.967275450050058,\n",
       " 'appears': 11.274128269490113,\n",
       " 'appeltaart': 11.274128269490113,\n",
       " 'apperitive': 11.967275450050058,\n",
       " 'apperitivo': 10.868663161381948,\n",
       " 'apperotivo': 11.967275450050058,\n",
       " 'appertising': 11.967275450050058,\n",
       " 'appertivo': 11.967275450050058,\n",
       " 'appetiser': 11.561810341941893,\n",
       " 'appetisers': 11.274128269490113,\n",
       " 'appetising': 11.967275450050058,\n",
       " 'appetit': 11.967275450050058,\n",
       " 'appetite': 10.580981088930168,\n",
       " 'appetizer': 10.357837537615957,\n",
       " 'appetizers': 9.887833908370222,\n",
       " 'appetizing': 11.561810341941893,\n",
       " 'appetrite': 11.967275450050058,\n",
       " 'appia': 11.561810341941893,\n",
       " 'appian': 11.561810341941893,\n",
       " 'appitite': 11.967275450050058,\n",
       " 'applause': 11.967275450050058,\n",
       " 'apple': 9.29312680062353,\n",
       " 'applepie': 11.967275450050058,\n",
       " 'apples': 11.967275450050058,\n",
       " 'apply': 11.561810341941893,\n",
       " 'appointment': 11.967275450050058,\n",
       " 'appreci': 11.967275450050058,\n",
       " 'appreciable': 11.967275450050058,\n",
       " 'appreciate': 11.050984718175902,\n",
       " 'appreciated': 10.580981088930168,\n",
       " 'appreciation': 11.561810341941893,\n",
       " 'apprehension': 11.967275450050058,\n",
       " 'appretivo': 11.967275450050058,\n",
       " 'approach': 10.095473273148466,\n",
       " 'approachable': 11.561810341941893,\n",
       " 'appropiate': 11.967275450050058,\n",
       " 'appropriate': 11.561810341941893,\n",
       " 'appropriately': 11.967275450050058,\n",
       " 'approved': 11.050984718175902,\n",
       " 'approx': 11.967275450050058,\n",
       " 'approximative': 11.967275450050058,\n",
       " 'apps': 11.561810341941893,\n",
       " 'apr': 11.967275450050058,\n",
       " 'apres': 11.561810341941893,\n",
       " 'april': 11.050984718175902,\n",
       " 'aprobar': 11.967275450050058,\n",
       " 'aproper': 11.967275450050058,\n",
       " 'apt': 11.967275450050058,\n",
       " 'aptly': 11.967275450050058,\n",
       " 'apulian': 11.274128269490113,\n",
       " 'aqu': 11.967275450050058,\n",
       " 'aqua': 11.050984718175902,\n",
       " 'aquarium': 11.967275450050058,\n",
       " 'aquariva': 11.967275450050058,\n",
       " 'aquavit': 11.967275450050058,\n",
       " 'aqui': 11.967275450050058,\n",
       " 'ar': 9.29312680062353,\n",
       " 'arab': 10.580981088930168,\n",
       " 'arabian': 10.357837537615957,\n",
       " 'arabic': 9.441546805741803,\n",
       " 'arago': 11.967275450050058,\n",
       " 'aragula': 11.967275450050058,\n",
       " 'araki': 11.967275450050058,\n",
       " 'arancine': 11.967275450050058,\n",
       " 'arancini': 10.71451248155469,\n",
       " ...}"
      ]
     },
     "execution_count": 49,
     "metadata": {},
     "output_type": "execute_result"
    }
   ],
   "source": [
    "model = TfidfVectorizer()\n",
    "model.fit(preprocessed_reviews)\n",
    "# we are converting a dictionary with word as a key, and the idf as a value\n",
    "dictionary = dict(zip(model.get_feature_names(), list(model.idf_)))\n",
    "dictionary"
   ]
  },
  {
   "cell_type": "code",
   "execution_count": 50,
   "metadata": {},
   "outputs": [
    {
     "name": "stderr",
     "output_type": "stream",
     "text": [
      "100%|█████████████████████████████████████████████████████████████████████████| 115892/115892 [04:18<00:00, 448.14it/s]\n"
     ]
    }
   ],
   "source": [
    "# TF-IDF weighted Word2Vec\n",
    "tfidf_feat = model.get_feature_names() # tfidf words/col-names\n",
    "# final_tf_idf is the sparse matrix with row= sentence, col=word and cell_val = tfidf\n",
    "\n",
    "tfidf_sent_vectors = []; # the tfidf-w2v for each sentence/review is stored in this list\n",
    "row=0;\n",
    "for sent in tqdm(list_of_sentance): # for each review/sentence \n",
    "    sent_vec = np.zeros(50) # as word vectors are of zero length\n",
    "    weight_sum =0; # num of words with a valid vector in the sentence/review\n",
    "    for word in sent: # for each word in a review/sentence\n",
    "        if word in w2v_words and word in tfidf_feat:\n",
    "            vec = w2v_model.wv[word]\n",
    "#             tf_idf = tf_idf_matrix[row, tfidf_feat.index(word)]\n",
    "            # to reduce the computation we are \n",
    "            # dictionary[word] = idf value of word in whole courpus\n",
    "            # sent.count(word) = tf valeus of word in this review\n",
    "            tf_idf = dictionary[word]*(sent.count(word)/len(sent))\n",
    "            sent_vec += (vec * tf_idf)\n",
    "            weight_sum += tf_idf\n",
    "    if weight_sum != 0:\n",
    "        sent_vec /= weight_sum\n",
    "    tfidf_sent_vectors.append(sent_vec)\n",
    "    row += 1"
   ]
  },
  {
   "cell_type": "code",
   "execution_count": 51,
   "metadata": {},
   "outputs": [
    {
     "data": {
      "text/plain": [
       "list"
      ]
     },
     "execution_count": 51,
     "metadata": {},
     "output_type": "execute_result"
    }
   ],
   "source": [
    "type(tfidf_sent_vectors)"
   ]
  },
  {
   "cell_type": "code",
   "execution_count": 52,
   "metadata": {},
   "outputs": [],
   "source": [
    "final_df=pd.DataFrame(tfidf_sent_vectors)"
   ]
  },
  {
   "cell_type": "code",
   "execution_count": 53,
   "metadata": {},
   "outputs": [],
   "source": [
    "#Convert to Pickle\n",
    "#Pickle for later use\n",
    "import pickle\n",
    "\n",
    "final_df.to_pickle(\"C:/Users/anant/Documents/MLDataSets/NLP_SentimentAnalysis_10thJune/Pickles/final_df.pkl\")\n"
   ]
  },
  {
   "cell_type": "code",
   "execution_count": 54,
   "metadata": {},
   "outputs": [],
   "source": [
    "#Read in dataframe\n",
    "import pandas as pd\n",
    "final_df=pd.read_pickle('C:/Users/anant/Documents/MLDataSets/NLP_SentimentAnalysis_10thJune/Pickles/final_df.pkl')"
   ]
  },
  {
   "cell_type": "code",
   "execution_count": 55,
   "metadata": {},
   "outputs": [
    {
     "data": {
      "text/plain": [
       "(115892, 50)"
      ]
     },
     "execution_count": 55,
     "metadata": {},
     "output_type": "execute_result"
    }
   ],
   "source": [
    "final_df.shape"
   ]
  },
  {
   "cell_type": "code",
   "execution_count": 56,
   "metadata": {},
   "outputs": [
    {
     "data": {
      "text/plain": [
       "(115892,)"
      ]
     },
     "execution_count": 56,
     "metadata": {},
     "output_type": "execute_result"
    }
   ],
   "source": [
    "y1=[]\n",
    "y1=ratings1[\"newrating\"]\n",
    "type(y1)\n",
    "y1.shape"
   ]
  },
  {
   "cell_type": "code",
   "execution_count": 57,
   "metadata": {},
   "outputs": [],
   "source": [
    "X_train,X_test, y_train, y_test = train_test_split(final_df, y1, stratify=y1, test_size=0.3)"
   ]
  },
  {
   "cell_type": "code",
   "execution_count": 58,
   "metadata": {},
   "outputs": [
    {
     "name": "stdout",
     "output_type": "stream",
     "text": [
      "Number of data points in train data : (81124, 50)\n",
      "Number of data points in test data : (34768, 50)\n"
     ]
    }
   ],
   "source": [
    "print(\"Number of data points in train data :\",X_train.shape)\n",
    "print(\"Number of data points in test data :\",X_test.shape)"
   ]
  },
  {
   "cell_type": "code",
   "execution_count": 59,
   "metadata": {},
   "outputs": [],
   "source": [
    "alpha = [10 ** x for x in range(-5, 2)]"
   ]
  },
  {
   "cell_type": "code",
   "execution_count": 60,
   "metadata": {},
   "outputs": [],
   "source": [
    "# This function plots the confusion matrices given y_i, y_i_hat.\n",
    "def plot_confusion_matrix(test_y, predict_y):\n",
    "    C = confusion_matrix(test_y, predict_y)\n",
    "    # C = 9,9 matrix, each cell (i,j) represents number of points of class i are predicted class j\n",
    "    \n",
    "    A =(((C.T)/(C.sum(axis=1))).T)\n",
    "    #divid each element of the confusion matrix with the sum of elements in that column\n",
    "    \n",
    "    # C = [[1, 2],\n",
    "    #     [3, 4]]\n",
    "    # C.T = [[1, 3],\n",
    "    #        [2, 4]]\n",
    "    # C.sum(axis = 1)  axis=0 corresonds to columns and axis=1 corresponds to rows in two diamensional array\n",
    "    # C.sum(axix =1) = [[3, 7]]\n",
    "    # ((C.T)/(C.sum(axis=1))) = [[1/3, 3/7]\n",
    "    #                           [2/3, 4/7]]\n",
    "\n",
    "    # ((C.T)/(C.sum(axis=1))).T = [[1/3, 2/3]\n",
    "    #                           [3/7, 4/7]]\n",
    "    # sum of row elements = 1\n",
    "    \n",
    "    B =(C/C.sum(axis=0))\n",
    "    #divid each element of the confusion matrix with the sum of elements in that row\n",
    "    # C = [[1, 2],\n",
    "    #     [3, 4]]\n",
    "    # C.sum(axis = 0)  axis=0 corresonds to columns and axis=1 corresponds to rows in two diamensional array\n",
    "    # C.sum(axix =0) = [[4, 6]]\n",
    "    # (C/C.sum(axis=0)) = [[1/4, 2/6],\n",
    "    #                      [3/4, 4/6]] \n",
    "    plt.figure(figsize=(10,4))\n",
    "    \n",
    "    labels = [1,2]\n",
    "    # representing A in heatmap format\n",
    "    cmap=sns.light_palette(\"blue\")\n",
    "    plt.subplot(1, 3, 1)\n",
    "    sns.heatmap(C, annot=True, cmap=cmap, fmt=\".3f\", xticklabels=labels, yticklabels=labels)\n",
    "    plt.xlabel('Predicted Class')\n",
    "    plt.ylabel('Original Class')\n",
    "    plt.title(\"Confusion matrix\")\n",
    "    \n",
    "    plt.subplot(1, 3, 2)\n",
    "    sns.heatmap(B, annot=True, cmap=cmap, fmt=\".3f\", xticklabels=labels, yticklabels=labels)\n",
    "    plt.xlabel('Predicted Class')\n",
    "    plt.ylabel('Original Class')\n",
    "    plt.title(\"Precision matrix\")\n",
    "    \n",
    "    plt.subplot(1, 3, 3)\n",
    "    # representing B in heatmap format\n",
    "    sns.heatmap(A, annot=True, cmap=cmap, fmt=\".3f\", xticklabels=labels, yticklabels=labels)\n",
    "    plt.xlabel('Predicted Class')\n",
    "    plt.ylabel('Original Class')\n",
    "    plt.title(\"Recall matrix\")\n",
    "    \n",
    "    plt.show()"
   ]
  },
  {
   "cell_type": "code",
   "execution_count": 61,
   "metadata": {},
   "outputs": [],
   "source": [
    "from sklearn.linear_model import SGDClassifier\n",
    "\n",
    "from sklearn import model_selection\n",
    "from sklearn.linear_model import LogisticRegression\n",
    "from sklearn.calibration import CalibratedClassifierCV\n",
    "from sklearn.metrics import precision_recall_curve, auc, roc_curve\n",
    "from sklearn.metrics.classification import accuracy_score, log_loss\n",
    "from sklearn.metrics import confusion_matrix"
   ]
  },
  {
   "cell_type": "code",
   "execution_count": 62,
   "metadata": {},
   "outputs": [
    {
     "name": "stderr",
     "output_type": "stream",
     "text": [
      "C:\\Users\\anant\\Anaconda3\\lib\\site-packages\\sklearn\\model_selection\\_split.py:1978: FutureWarning: The default value of cv will change from 3 to 5 in version 0.22. Specify it explicitly to silence this warning.\n",
      "  warnings.warn(CV_WARNING, FutureWarning)\n"
     ]
    },
    {
     "name": "stdout",
     "output_type": "stream",
     "text": [
      "For values of alpha =  1e-05 The log loss is: 0.1562494973032077\n"
     ]
    },
    {
     "name": "stderr",
     "output_type": "stream",
     "text": [
      "C:\\Users\\anant\\Anaconda3\\lib\\site-packages\\sklearn\\model_selection\\_split.py:1978: FutureWarning: The default value of cv will change from 3 to 5 in version 0.22. Specify it explicitly to silence this warning.\n",
      "  warnings.warn(CV_WARNING, FutureWarning)\n"
     ]
    },
    {
     "name": "stdout",
     "output_type": "stream",
     "text": [
      "For values of alpha =  0.0001 The log loss is: 0.155365523114266\n"
     ]
    },
    {
     "name": "stderr",
     "output_type": "stream",
     "text": [
      "C:\\Users\\anant\\Anaconda3\\lib\\site-packages\\sklearn\\model_selection\\_split.py:1978: FutureWarning: The default value of cv will change from 3 to 5 in version 0.22. Specify it explicitly to silence this warning.\n",
      "  warnings.warn(CV_WARNING, FutureWarning)\n"
     ]
    },
    {
     "name": "stdout",
     "output_type": "stream",
     "text": [
      "For values of alpha =  0.001 The log loss is: 0.15628518827959556\n"
     ]
    },
    {
     "name": "stderr",
     "output_type": "stream",
     "text": [
      "C:\\Users\\anant\\Anaconda3\\lib\\site-packages\\sklearn\\model_selection\\_split.py:1978: FutureWarning: The default value of cv will change from 3 to 5 in version 0.22. Specify it explicitly to silence this warning.\n",
      "  warnings.warn(CV_WARNING, FutureWarning)\n"
     ]
    },
    {
     "name": "stdout",
     "output_type": "stream",
     "text": [
      "For values of alpha =  0.01 The log loss is: 0.15761401019526014\n"
     ]
    },
    {
     "name": "stderr",
     "output_type": "stream",
     "text": [
      "C:\\Users\\anant\\Anaconda3\\lib\\site-packages\\sklearn\\model_selection\\_split.py:1978: FutureWarning: The default value of cv will change from 3 to 5 in version 0.22. Specify it explicitly to silence this warning.\n",
      "  warnings.warn(CV_WARNING, FutureWarning)\n"
     ]
    },
    {
     "name": "stdout",
     "output_type": "stream",
     "text": [
      "For values of alpha =  0.1 The log loss is: 0.16029126734317925\n"
     ]
    },
    {
     "name": "stderr",
     "output_type": "stream",
     "text": [
      "C:\\Users\\anant\\Anaconda3\\lib\\site-packages\\sklearn\\model_selection\\_split.py:1978: FutureWarning: The default value of cv will change from 3 to 5 in version 0.22. Specify it explicitly to silence this warning.\n",
      "  warnings.warn(CV_WARNING, FutureWarning)\n"
     ]
    },
    {
     "name": "stdout",
     "output_type": "stream",
     "text": [
      "For values of alpha =  1 The log loss is: 0.17395346503886752\n"
     ]
    },
    {
     "name": "stderr",
     "output_type": "stream",
     "text": [
      "C:\\Users\\anant\\Anaconda3\\lib\\site-packages\\sklearn\\model_selection\\_split.py:1978: FutureWarning: The default value of cv will change from 3 to 5 in version 0.22. Specify it explicitly to silence this warning.\n",
      "  warnings.warn(CV_WARNING, FutureWarning)\n"
     ]
    },
    {
     "name": "stdout",
     "output_type": "stream",
     "text": [
      "For values of alpha =  10 The log loss is: 0.17585321186372016\n"
     ]
    },
    {
     "data": {
      "image/png": "[encoded data removed]",
      "text/plain": [
       "<Figure size 1080x504 with 1 Axes>"
      ]
     },
     "metadata": {
      "needs_background": "light"
     },
     "output_type": "display_data"
    },
    {
     "name": "stderr",
     "output_type": "stream",
     "text": [
      "C:\\Users\\anant\\Anaconda3\\lib\\site-packages\\sklearn\\model_selection\\_split.py:1978: FutureWarning: The default value of cv will change from 3 to 5 in version 0.22. Specify it explicitly to silence this warning.\n",
      "  warnings.warn(CV_WARNING, FutureWarning)\n"
     ]
    },
    {
     "name": "stdout",
     "output_type": "stream",
     "text": [
      "For values of best alpha =  0.0001 The train log loss is: 0.15423548934670742\n",
      "For values of best alpha =  0.0001 The test log loss is: 0.155365523114266\n",
      "Total number of data points : 34768\n"
     ]
    }
   ],
   "source": [
    "log_error_array=[]\n",
    "for i in alpha:\n",
    "    clf = SGDClassifier(alpha=i, penalty='l2', loss='log', random_state=42)\n",
    "    clf.fit(X_train, y_train)\n",
    "    sig_clf = CalibratedClassifierCV(clf, method=\"sigmoid\")\n",
    "    sig_clf.fit(X_train, y_train)\n",
    "    predict_y = sig_clf.predict_proba(X_test)\n",
    "    log_error_array.append(log_loss(y_test, predict_y, labels=clf.classes_, eps=1e-15))\n",
    "    print('For values of alpha = ', i, \"The log loss is:\",log_loss(y_test, predict_y, labels=clf.classes_, eps=1e-15))\n",
    "\n",
    "fig, ax = plt.subplots()\n",
    "ax.plot(alpha, log_error_array,c='g')\n",
    "for i, txt in enumerate(np.round(log_error_array,3)):\n",
    "    ax.annotate((alpha[i],np.round(txt,3)), (alpha[i],log_error_array[i]))\n",
    "plt.grid()\n",
    "plt.title(\"Cross Validation Error for each alpha\")\n",
    "plt.xlabel(\"Alpha i's\")\n",
    "plt.ylabel(\"Error measure\")\n",
    "plt.show()\n",
    "\n",
    "\n",
    "best_alpha = np.argmin(log_error_array)\n",
    "clf = SGDClassifier(alpha=alpha[best_alpha], penalty='l2', loss='log', random_state=42)\n",
    "clf.fit(X_train, y_train)\n",
    "sig_clf = CalibratedClassifierCV(clf, method=\"sigmoid\")\n",
    "sig_clf.fit(X_train, y_train)\n",
    "\n",
    "predict_y = sig_clf.predict_proba(X_train)\n",
    "print('For values of best alpha = ', alpha[best_alpha], \"The train log loss is:\",log_loss(y_train, predict_y, labels=clf.classes_, eps=1e-15))\n",
    "predict_y = sig_clf.predict_proba(X_test)\n",
    "print('For values of best alpha = ', alpha[best_alpha], \"The test log loss is:\",log_loss(y_test, predict_y, labels=clf.classes_, eps=1e-15))\n",
    "predicted_y =np.argmax(predict_y,axis=1)\n",
    "print(\"Total number of data points :\", len(predicted_y))\n"
   ]
  },
  {
   "cell_type": "code",
   "execution_count": 63,
   "metadata": {},
   "outputs": [
    {
     "data": {
      "image/png": "[encoded data removed]",
      "text/plain": [
       "<Figure size 720x288 with 6 Axes>"
      ]
     },
     "metadata": {
      "needs_background": "light"
     },
     "output_type": "display_data"
    }
   ],
   "source": [
    "plot_confusion_matrix(y_test, predicted_y)"
   ]
  },
  {
   "cell_type": "markdown",
   "metadata": {},
   "source": [
    "#Applying LInear SVM Model"
   ]
  },
  {
   "cell_type": "code",
   "execution_count": 64,
   "metadata": {},
   "outputs": [
    {
     "name": "stderr",
     "output_type": "stream",
     "text": [
      "C:\\Users\\anant\\Anaconda3\\lib\\site-packages\\sklearn\\model_selection\\_split.py:1978: FutureWarning: The default value of cv will change from 3 to 5 in version 0.22. Specify it explicitly to silence this warning.\n",
      "  warnings.warn(CV_WARNING, FutureWarning)\n"
     ]
    },
    {
     "name": "stdout",
     "output_type": "stream",
     "text": [
      "For values of alpha =  1e-05 The log loss is: 0.16124517943704791\n"
     ]
    },
    {
     "name": "stderr",
     "output_type": "stream",
     "text": [
      "C:\\Users\\anant\\Anaconda3\\lib\\site-packages\\sklearn\\model_selection\\_split.py:1978: FutureWarning: The default value of cv will change from 3 to 5 in version 0.22. Specify it explicitly to silence this warning.\n",
      "  warnings.warn(CV_WARNING, FutureWarning)\n"
     ]
    },
    {
     "name": "stdout",
     "output_type": "stream",
     "text": [
      "For values of alpha =  0.0001 The log loss is: 0.1604933113047069\n"
     ]
    },
    {
     "name": "stderr",
     "output_type": "stream",
     "text": [
      "C:\\Users\\anant\\Anaconda3\\lib\\site-packages\\sklearn\\model_selection\\_split.py:1978: FutureWarning: The default value of cv will change from 3 to 5 in version 0.22. Specify it explicitly to silence this warning.\n",
      "  warnings.warn(CV_WARNING, FutureWarning)\n"
     ]
    },
    {
     "name": "stdout",
     "output_type": "stream",
     "text": [
      "For values of alpha =  0.001 The log loss is: 0.1633658244410501\n"
     ]
    },
    {
     "name": "stderr",
     "output_type": "stream",
     "text": [
      "C:\\Users\\anant\\Anaconda3\\lib\\site-packages\\sklearn\\model_selection\\_split.py:1978: FutureWarning: The default value of cv will change from 3 to 5 in version 0.22. Specify it explicitly to silence this warning.\n",
      "  warnings.warn(CV_WARNING, FutureWarning)\n"
     ]
    },
    {
     "name": "stdout",
     "output_type": "stream",
     "text": [
      "For values of alpha =  0.01 The log loss is: 0.168680455055343\n"
     ]
    },
    {
     "name": "stderr",
     "output_type": "stream",
     "text": [
      "C:\\Users\\anant\\Anaconda3\\lib\\site-packages\\sklearn\\model_selection\\_split.py:1978: FutureWarning: The default value of cv will change from 3 to 5 in version 0.22. Specify it explicitly to silence this warning.\n",
      "  warnings.warn(CV_WARNING, FutureWarning)\n"
     ]
    },
    {
     "name": "stdout",
     "output_type": "stream",
     "text": [
      "For values of alpha =  0.1 The log loss is: 0.18312025327855175\n"
     ]
    },
    {
     "name": "stderr",
     "output_type": "stream",
     "text": [
      "C:\\Users\\anant\\Anaconda3\\lib\\site-packages\\sklearn\\model_selection\\_split.py:1978: FutureWarning: The default value of cv will change from 3 to 5 in version 0.22. Specify it explicitly to silence this warning.\n",
      "  warnings.warn(CV_WARNING, FutureWarning)\n"
     ]
    },
    {
     "name": "stdout",
     "output_type": "stream",
     "text": [
      "For values of alpha =  1 The log loss is: 0.18312025327855175\n"
     ]
    },
    {
     "name": "stderr",
     "output_type": "stream",
     "text": [
      "C:\\Users\\anant\\Anaconda3\\lib\\site-packages\\sklearn\\model_selection\\_split.py:1978: FutureWarning: The default value of cv will change from 3 to 5 in version 0.22. Specify it explicitly to silence this warning.\n",
      "  warnings.warn(CV_WARNING, FutureWarning)\n"
     ]
    },
    {
     "name": "stdout",
     "output_type": "stream",
     "text": [
      "For values of alpha =  10 The log loss is: 0.18312025327855175\n"
     ]
    },
    {
     "data": {
      "image/png": "[encoded data removed]",
      "text/plain": [
       "<Figure size 1080x504 with 1 Axes>"
      ]
     },
     "metadata": {
      "needs_background": "light"
     },
     "output_type": "display_data"
    },
    {
     "name": "stderr",
     "output_type": "stream",
     "text": [
      "C:\\Users\\anant\\Anaconda3\\lib\\site-packages\\sklearn\\model_selection\\_split.py:1978: FutureWarning: The default value of cv will change from 3 to 5 in version 0.22. Specify it explicitly to silence this warning.\n",
      "  warnings.warn(CV_WARNING, FutureWarning)\n"
     ]
    },
    {
     "name": "stdout",
     "output_type": "stream",
     "text": [
      "For values of best alpha =  0.0001 The train log loss is: 0.15961592766938865\n",
      "For values of best alpha =  0.0001 The test log loss is: 0.1604933113047069\n",
      "Total number of data points : 34768\n"
     ]
    },
    {
     "data": {
      "image/png": "[encoded data removed]",
      "text/plain": [
       "<Figure size 720x288 with 6 Axes>"
      ]
     },
     "metadata": {
      "needs_background": "light"
     },
     "output_type": "display_data"
    }
   ],
   "source": [
    "alpha = [10 ** x for x in range(-5, 2)] # hyperparam for SGD classifier.\n",
    "\n",
    "# read more about SGDClassifier() at http://scikit-learn.org/stable/modules/generated/sklearn.linear_model.SGDClassifier.html\n",
    "# ------------------------------\n",
    "# default parameters\n",
    "# SGDClassifier(loss=’hinge’, penalty=’l2’, alpha=0.0001, l1_ratio=0.15, fit_intercept=True, max_iter=None, tol=None, \n",
    "# shuffle=True, verbose=0, epsilon=0.1, n_jobs=1, random_state=None, learning_rate=’optimal’, eta0=0.0, power_t=0.5, \n",
    "# class_weight=None, warm_start=False, average=False, n_iter=None)\n",
    "\n",
    "# some of methods\n",
    "# fit(X, y[, coef_init, intercept_init, …])\tFit linear model with Stochastic Gradient Descent.\n",
    "# predict(X)\tPredict class labels for samples in X.\n",
    "\n",
    "#-------------------------------\n",
    "# video link: \n",
    "#------------------------------\n",
    "\n",
    "\n",
    "log_error_array=[]\n",
    "for i in alpha:\n",
    "    clf = SGDClassifier(alpha=i, penalty='l1', loss='hinge', random_state=42)\n",
    "    clf.fit(X_train, y_train)\n",
    "    sig_clf = CalibratedClassifierCV(clf, method=\"sigmoid\")\n",
    "    sig_clf.fit(X_train, y_train)\n",
    "    predict_y = sig_clf.predict_proba(X_test)\n",
    "    log_error_array.append(log_loss(y_test, predict_y, labels=clf.classes_, eps=1e-15))\n",
    "    print('For values of alpha = ', i, \"The log loss is:\",log_loss(y_test, predict_y, labels=clf.classes_, eps=1e-15))\n",
    "\n",
    "fig, ax = plt.subplots()\n",
    "ax.plot(alpha, log_error_array,c='g')\n",
    "for i, txt in enumerate(np.round(log_error_array,3)):\n",
    "    ax.annotate((alpha[i],np.round(txt,3)), (alpha[i],log_error_array[i]))\n",
    "plt.grid()\n",
    "plt.title(\"Cross Validation Error for each alpha\")\n",
    "plt.xlabel(\"Alpha i's\")\n",
    "plt.ylabel(\"Error measure\")\n",
    "plt.show()\n",
    "\n",
    "\n",
    "best_alpha = np.argmin(log_error_array)\n",
    "clf = SGDClassifier(alpha=alpha[best_alpha], penalty='l1', loss='hinge', random_state=42)\n",
    "clf.fit(X_train, y_train)\n",
    "sig_clf = CalibratedClassifierCV(clf, method=\"sigmoid\")\n",
    "sig_clf.fit(X_train, y_train)\n",
    "\n",
    "predict_y = sig_clf.predict_proba(X_train)\n",
    "print('For values of best alpha = ', alpha[best_alpha], \"The train log loss is:\",log_loss(y_train, predict_y, labels=clf.classes_, eps=1e-15))\n",
    "predict_y = sig_clf.predict_proba(X_test)\n",
    "print('For values of best alpha = ', alpha[best_alpha], \"The test log loss is:\",log_loss(y_test, predict_y, labels=clf.classes_, eps=1e-15))\n",
    "predicted_y =np.argmax(predict_y,axis=1)\n",
    "print(\"Total number of data points :\", len(predicted_y))\n",
    "plot_confusion_matrix(y_test, predicted_y)"
   ]
  },
  {
   "cell_type": "markdown",
   "metadata": {},
   "source": [
    "#Applying TSNE"
   ]
  },
  {
   "cell_type": "code",
   "execution_count": 65,
   "metadata": {},
   "outputs": [],
   "source": [
    "# #Applying TSNE on BOW\n",
    "\n",
    "# import numpy as np\n",
    "# from sklearn.manifold import TSNE\n",
    "# from sklearn import datasets\n",
    "# import pandas as pd\n",
    "# import matplotlib.pyplot as plt\n",
    "\n",
    "\n",
    "# x = x\n",
    "# y = y1\n",
    "\n",
    "# tsne = TSNE(n_components=2, perplexity=100, learning_rate=200,n_iter=5000)\n",
    "\n",
    "# X_embedding = tsne.fit_transform(x)\n",
    "# # if x is a sparse matrix you need to pass it as X_embedding = tsne.fit_transform(x.toarray()) , .toarray() will convert the sparse matrix into dense matrix\n",
    "\n",
    "# for_tsne = np.hstack((X_embedding, y.reshape(-1,1)))\n",
    "# for_tsne_df = pd.DataFrame(data=for_tsne, columns=['Dimension_x','Dimension_y','Score'])\n",
    "# colors = {0:'red', 1:'blue', 2:'green'}\n",
    "# plt.scatter(for_tsne_df['Dimension_x'], for_tsne_df['Dimension_y'], c=for_tsne_df['Score'].apply(lambda x: colors[x]))\n",
    "# plt.show()"
   ]
  },
  {
   "cell_type": "code",
   "execution_count": 66,
   "metadata": {},
   "outputs": [],
   "source": [
    "# for_tsne_df.head(100)"
   ]
  },
  {
   "cell_type": "code",
   "execution_count": 67,
   "metadata": {},
   "outputs": [],
   "source": [
    "# x2=final_tf_idf[:1000].toarray()\n",
    "# x2.shape\n",
    "# y2 = ratings1[\"newrating\"][:1000]\n",
    "# y3=np.array(y2)\n"
   ]
  },
  {
   "cell_type": "code",
   "execution_count": 68,
   "metadata": {},
   "outputs": [],
   "source": [
    "# #Applying TSNE on TF-IDF vector\n",
    "# import numpy as np\n",
    "# from sklearn.manifold import TSNE\n",
    "# from sklearn import datasets\n",
    "# import pandas as pd\n",
    "# import matplotlib.pyplot as plt\n",
    "\n",
    "\n",
    "# x = x2\n",
    "# y = y3\n",
    "\n",
    "# tsne = TSNE(n_components=2, perplexity=100, learning_rate=200,n_iter=5000)\n",
    "\n",
    "# X_embedding = tsne.fit_transform(x)\n",
    "# # if x is a sparse matrix you need to pass it as X_embedding = tsne.fit_transform(x.toarray()) , .toarray() will convert the sparse matrix into dense matrix\n",
    "\n",
    "# for_tsne = np.hstack((X_embedding, y.reshape(-1,1)))\n",
    "# for_tsne_df = pd.DataFrame(data=for_tsne, columns=['Dimension_x','Dimension_y','Score'])\n",
    "# colors = {0:'red', 1:'blue', 2:'green'}\n",
    "# plt.scatter(for_tsne_df['Dimension_x'], for_tsne_df['Dimension_y'], c=for_tsne_df['Score'].apply(lambda x: colors[x]))\n",
    "# plt.show()"
   ]
  },
  {
   "cell_type": "code",
   "execution_count": null,
   "metadata": {},
   "outputs": [],
   "source": []
  }
 ],
 "metadata": {
  "kernelspec": {
   "display_name": "Python 3",
   "language": "python",
   "name": "python3"
  },
  "language_info": {
   "codemirror_mode": {
    "name": "ipython",
    "version": 3
   },
   "file_extension": ".py",
   "mimetype": "text/x-python",
   "name": "python",
   "nbconvert_exporter": "python",
   "pygments_lexer": "ipython3",
   "version": "3.7.4"
  }
 },
 "nbformat": 4,
 "nbformat_minor": 2
}
